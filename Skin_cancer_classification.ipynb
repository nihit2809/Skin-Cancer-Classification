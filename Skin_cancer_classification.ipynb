{
  "nbformat": 4,
  "nbformat_minor": 0,
  "metadata": {
    "colab": {
      "provenance": [],
      "collapsed_sections": []
    },
    "kernelspec": {
      "name": "python3",
      "display_name": "Python 3"
    },
    "language_info": {
      "name": "python"
    },
    "accelerator": "GPU",
    "gpuClass": "standard"
  },
  "cells": [
    {
      "cell_type": "code",
      "execution_count": null,
      "metadata": {
        "id": "8lr_sMTSQxms"
      },
      "outputs": [],
      "source": [
        "import plotly"
      ]
    },
    {
      "cell_type": "code",
      "source": [
        "import numpy as np\n",
        "import pandas as pd\n",
        "\n",
        "import os\n",
        "import tensorflow as tf\n",
        "\n",
        "from PIL import Image\n",
        "from glob import glob\n",
        "\n",
        "import matplotlib.pyplot as plt\n",
        "import seaborn as sns\n",
        "\n",
        "\n",
        "import tensorflow as tf\n",
        "from tensorflow.keras.preprocessing.image import ImageDataGenerator\n",
        "from tensorflow.keras.models import Sequential\n",
        "from tensorflow.keras.layers import Conv2D, Flatten, Dense, MaxPool2D\n",
        "from tensorflow.keras.callbacks import ReduceLROnPlateau, EarlyStopping\n",
        "\n",
        "from sklearn.model_selection import train_test_split"
      ],
      "metadata": {
        "id": "D51f8-pARBuU"
      },
      "execution_count": null,
      "outputs": []
    },
    {
      "cell_type": "code",
      "source": [
        "def prepare_for_train_test(X, Y):\n",
        "    X_train, X_test, Y_train, Y_test = train_test_split(X, Y, test_size=0.2, random_state=1)\n",
        "    \n",
        "    train_datagen = ImageDataGenerator(rescale = 1./255,\n",
        "                                  rotation_range = 10,\n",
        "                                  width_shift_range = 0.2,\n",
        "                                  height_shift_range = 0.2,\n",
        "                                  shear_range = 0.2,\n",
        "                                  horizontal_flip = True,\n",
        "                                  vertical_flip = True,\n",
        "                                  fill_mode = 'nearest')\n",
        "    train_datagen.fit(X_train)\n",
        "    test_datagen = ImageDataGenerator(rescale = 1./255)\n",
        "    test_datagen.fit(X_test)\n",
        "    return X_train, X_test, Y_train, Y_test\n"
      ],
      "metadata": {
        "id": "9EQIl9QuRK77"
      },
      "execution_count": null,
      "outputs": []
    },
    {
      "cell_type": "code",
      "source": [
        "def create_model():\n",
        "    model = Sequential()\n",
        "    model.add(Conv2D(16, kernel_size = (3,3), input_shape = (28, 28, 3), activation = 'relu', padding = 'same'))\n",
        "    model.add(MaxPool2D(pool_size = (2,2)))\n",
        "\n",
        "    model.add(Conv2D(32, kernel_size = (3,3), activation = 'relu', padding = 'same'))\n",
        "    model.add(MaxPool2D(pool_size = (2,2), padding = 'same'))\n",
        "\n",
        "    model.add(Conv2D(64, kernel_size = (3,3), activation = 'relu', padding = 'same'))\n",
        "    model.add(MaxPool2D(pool_size = (2,2), padding = 'same'))\n",
        "    model.add(Conv2D(128, kernel_size = (3,3), activation = 'relu', padding = 'same'))\n",
        "    model.add(MaxPool2D(pool_size = (2,2), padding = 'same'))\n",
        "\n",
        "    model.add(Flatten())\n",
        "    model.add(Dense(64, activation = 'relu'))\n",
        "    model.add(Dense(32, activation='relu'))\n",
        "    model.add(Dense(7, activation='softmax'))\n",
        "\n",
        "    optimizer = tf.keras.optimizers.Adam(learning_rate = 0.001)\n",
        "\n",
        "    model.compile(loss = 'sparse_categorical_crossentropy',\n",
        "                 optimizer = optimizer,\n",
        "                  metrics = ['accuracy'])\n",
        "    print(model.summary())\n",
        "    return model;"
      ],
      "metadata": {
        "id": "FOxyT53oRR9d"
      },
      "execution_count": null,
      "outputs": []
    },
    {
      "cell_type": "code",
      "source": [
        "def train_model(model, X_train, Y_train, EPOCHS=25):\n",
        "    early_stop = EarlyStopping(monitor='val_loss', patience=10, verbose=1, \n",
        "                           mode='auto')\n",
        "    \n",
        "    reduce_lr = ReduceLROnPlateau(monitor='val_loss', factor=0.1, patience=3, \n",
        "                              verbose=1, mode='auto')\n",
        "    \n",
        "    history = model.fit(X_train,\n",
        "                        Y_train,\n",
        "                        validation_split=0.2,\n",
        "                        batch_size = 64,\n",
        "                        epochs = EPOCHS,\n",
        "                        callbacks = [reduce_lr, early_stop])\n",
        "    return history"
      ],
      "metadata": {
        "id": "I24ZBOjmRV43"
      },
      "execution_count": null,
      "outputs": []
    },
    {
      "cell_type": "code",
      "source": [
        "base_skin_dir = os.path.join('..', 'input')"
      ],
      "metadata": {
        "id": "RQ0y90HNRs-V"
      },
      "execution_count": null,
      "outputs": []
    },
    {
      "cell_type": "code",
      "source": [
        "lesion_type_dict = {\n",
        "    'nv': 'Melanocytic nevi (nv)',\n",
        "    'mel': 'Melanoma (mel)',\n",
        "    'bkl': 'Benign keratosis-like lesions (bkl)',\n",
        "    'bcc': 'Basal cell carcinoma (bcc)',\n",
        "    'akiec': 'Actinic keratoses (akiec)',\n",
        "    'vasc': 'Vascular lesions (vasc)',\n",
        "    'df': 'Dermatofibroma (df)'\n",
        "}\n",
        "label_mapping = {\n",
        "    0: 'nv',\n",
        "    1: 'mel',\n",
        "    2: 'bkl',\n",
        "    3: 'bcc',\n",
        "    4: 'akiec',\n",
        "    5: 'vasc',\n",
        "    6: 'df'\n",
        "}\n",
        "reverse_label_mapping = dict((value, key) for key, value in label_mapping.items())"
      ],
      "metadata": {
        "id": "KTmtkWg0Svyj"
      },
      "execution_count": null,
      "outputs": []
    },
    {
      "cell_type": "code",
      "source": [
        "os.listdir('/content/drive/MyDrive//Project_phase/ham10000_dataverse_files')"
      ],
      "metadata": {
        "colab": {
          "base_uri": "https://localhost:8080/"
        },
        "id": "ncSl7_u955tx",
        "outputId": "ab55fd47-022a-49bc-94df-b557919d8693"
      },
      "execution_count": null,
      "outputs": [
        {
          "output_type": "execute_result",
          "data": {
            "text/plain": [
              "['HAM10000_metadata', 'HAM10000_images_part_2', 'HAM10000_images_part_1']"
            ]
          },
          "metadata": {},
          "execution_count": 10
        }
      ]
    },
    {
      "cell_type": "code",
      "source": [
        "from google.colab import drive\n",
        "drive.mount('/content/drive')"
      ],
      "metadata": {
        "colab": {
          "base_uri": "https://localhost:8080/"
        },
        "id": "27Kd4nHxOyJq",
        "outputId": "2e14b1c2-a024-4316-b5ad-0f26c5bf9c0f"
      },
      "execution_count": null,
      "outputs": [
        {
          "output_type": "stream",
          "name": "stdout",
          "text": [
            "Mounted at /content/drive\n"
          ]
        }
      ]
    },
    {
      "cell_type": "code",
      "source": [
        "imageid_path_dict = {os.path.splitext(os.path.basename(x))[0]: x\n",
        "                     for x in glob(os.path.join(base_skin_dir,\"/content/drive/MyDrive/Project_phase/ham10000_dataverse_files/\", '*', '*.jpg'))}"
      ],
      "metadata": {
        "id": "M3_zIknv55w7"
      },
      "execution_count": null,
      "outputs": []
    },
    {
      "cell_type": "code",
      "source": [
        "type(imageid_path_dict)"
      ],
      "metadata": {
        "id": "xvppgcLP550e",
        "colab": {
          "base_uri": "https://localhost:8080/"
        },
        "outputId": "63e6f069-c847-4ca1-cdcf-b0d2c59ea166"
      },
      "execution_count": null,
      "outputs": [
        {
          "output_type": "execute_result",
          "data": {
            "text/plain": [
              "dict"
            ]
          },
          "metadata": {},
          "execution_count": 12
        }
      ]
    },
    {
      "cell_type": "code",
      "source": [
        "len(imageid_path_dict)"
      ],
      "metadata": {
        "id": "ncwnwnCd55_u",
        "colab": {
          "base_uri": "https://localhost:8080/"
        },
        "outputId": "91eb4764-b8ea-4ce2-d228-29030ccf5aef"
      },
      "execution_count": null,
      "outputs": [
        {
          "output_type": "execute_result",
          "data": {
            "text/plain": [
              "10034"
            ]
          },
          "metadata": {},
          "execution_count": 13
        }
      ]
    },
    {
      "cell_type": "code",
      "source": [
        "data = pd.read_csv(os.path.join(base_skin_dir,\"/content/drive/MyDrive/Project_phase/ham10000_dataverse_files/\",'HAM10000_metadata'))"
      ],
      "metadata": {
        "id": "8P_mFTjn56DK"
      },
      "execution_count": null,
      "outputs": []
    },
    {
      "cell_type": "code",
      "source": [
        "data.head()"
      ],
      "metadata": {
        "id": "AwO76qOY6mpp",
        "colab": {
          "base_uri": "https://localhost:8080/",
          "height": 250
        },
        "outputId": "9c99f6ca-1cfd-4a77-866b-5c00ad64906b"
      },
      "execution_count": null,
      "outputs": [
        {
          "output_type": "execute_result",
          "data": {
            "text/plain": [
              "     lesion_id      image_id   dx dx_type   age   sex localization  \\\n",
              "0  HAM_0000118  ISIC_0027419  bkl   histo  80.0  male        scalp   \n",
              "1  HAM_0000118  ISIC_0025030  bkl   histo  80.0  male        scalp   \n",
              "2  HAM_0002730  ISIC_0026769  bkl   histo  80.0  male        scalp   \n",
              "3  HAM_0002730  ISIC_0025661  bkl   histo  80.0  male        scalp   \n",
              "4  HAM_0001466  ISIC_0031633  bkl   histo  75.0  male          ear   \n",
              "\n",
              "        dataset  \n",
              "0  vidir_modern  \n",
              "1  vidir_modern  \n",
              "2  vidir_modern  \n",
              "3  vidir_modern  \n",
              "4  vidir_modern  "
            ],
            "text/html": [
              "\n",
              "  <div id=\"df-bde4ed82-9fa9-4f5f-b5e0-d436f28ae938\">\n",
              "    <div class=\"colab-df-container\">\n",
              "      <div>\n",
              "<style scoped>\n",
              "    .dataframe tbody tr th:only-of-type {\n",
              "        vertical-align: middle;\n",
              "    }\n",
              "\n",
              "    .dataframe tbody tr th {\n",
              "        vertical-align: top;\n",
              "    }\n",
              "\n",
              "    .dataframe thead th {\n",
              "        text-align: right;\n",
              "    }\n",
              "</style>\n",
              "<table border=\"1\" class=\"dataframe\">\n",
              "  <thead>\n",
              "    <tr style=\"text-align: right;\">\n",
              "      <th></th>\n",
              "      <th>lesion_id</th>\n",
              "      <th>image_id</th>\n",
              "      <th>dx</th>\n",
              "      <th>dx_type</th>\n",
              "      <th>age</th>\n",
              "      <th>sex</th>\n",
              "      <th>localization</th>\n",
              "      <th>dataset</th>\n",
              "    </tr>\n",
              "  </thead>\n",
              "  <tbody>\n",
              "    <tr>\n",
              "      <th>0</th>\n",
              "      <td>HAM_0000118</td>\n",
              "      <td>ISIC_0027419</td>\n",
              "      <td>bkl</td>\n",
              "      <td>histo</td>\n",
              "      <td>80.0</td>\n",
              "      <td>male</td>\n",
              "      <td>scalp</td>\n",
              "      <td>vidir_modern</td>\n",
              "    </tr>\n",
              "    <tr>\n",
              "      <th>1</th>\n",
              "      <td>HAM_0000118</td>\n",
              "      <td>ISIC_0025030</td>\n",
              "      <td>bkl</td>\n",
              "      <td>histo</td>\n",
              "      <td>80.0</td>\n",
              "      <td>male</td>\n",
              "      <td>scalp</td>\n",
              "      <td>vidir_modern</td>\n",
              "    </tr>\n",
              "    <tr>\n",
              "      <th>2</th>\n",
              "      <td>HAM_0002730</td>\n",
              "      <td>ISIC_0026769</td>\n",
              "      <td>bkl</td>\n",
              "      <td>histo</td>\n",
              "      <td>80.0</td>\n",
              "      <td>male</td>\n",
              "      <td>scalp</td>\n",
              "      <td>vidir_modern</td>\n",
              "    </tr>\n",
              "    <tr>\n",
              "      <th>3</th>\n",
              "      <td>HAM_0002730</td>\n",
              "      <td>ISIC_0025661</td>\n",
              "      <td>bkl</td>\n",
              "      <td>histo</td>\n",
              "      <td>80.0</td>\n",
              "      <td>male</td>\n",
              "      <td>scalp</td>\n",
              "      <td>vidir_modern</td>\n",
              "    </tr>\n",
              "    <tr>\n",
              "      <th>4</th>\n",
              "      <td>HAM_0001466</td>\n",
              "      <td>ISIC_0031633</td>\n",
              "      <td>bkl</td>\n",
              "      <td>histo</td>\n",
              "      <td>75.0</td>\n",
              "      <td>male</td>\n",
              "      <td>ear</td>\n",
              "      <td>vidir_modern</td>\n",
              "    </tr>\n",
              "  </tbody>\n",
              "</table>\n",
              "</div>\n",
              "      <button class=\"colab-df-convert\" onclick=\"convertToInteractive('df-bde4ed82-9fa9-4f5f-b5e0-d436f28ae938')\"\n",
              "              title=\"Convert this dataframe to an interactive table.\"\n",
              "              style=\"display:none;\">\n",
              "        \n",
              "  <svg xmlns=\"http://www.w3.org/2000/svg\" height=\"24px\"viewBox=\"0 0 24 24\"\n",
              "       width=\"24px\">\n",
              "    <path d=\"M0 0h24v24H0V0z\" fill=\"none\"/>\n",
              "    <path d=\"M18.56 5.44l.94 2.06.94-2.06 2.06-.94-2.06-.94-.94-2.06-.94 2.06-2.06.94zm-11 1L8.5 8.5l.94-2.06 2.06-.94-2.06-.94L8.5 2.5l-.94 2.06-2.06.94zm10 10l.94 2.06.94-2.06 2.06-.94-2.06-.94-.94-2.06-.94 2.06-2.06.94z\"/><path d=\"M17.41 7.96l-1.37-1.37c-.4-.4-.92-.59-1.43-.59-.52 0-1.04.2-1.43.59L10.3 9.45l-7.72 7.72c-.78.78-.78 2.05 0 2.83L4 21.41c.39.39.9.59 1.41.59.51 0 1.02-.2 1.41-.59l7.78-7.78 2.81-2.81c.8-.78.8-2.07 0-2.86zM5.41 20L4 18.59l7.72-7.72 1.47 1.35L5.41 20z\"/>\n",
              "  </svg>\n",
              "      </button>\n",
              "      \n",
              "  <style>\n",
              "    .colab-df-container {\n",
              "      display:flex;\n",
              "      flex-wrap:wrap;\n",
              "      gap: 12px;\n",
              "    }\n",
              "\n",
              "    .colab-df-convert {\n",
              "      background-color: #E8F0FE;\n",
              "      border: none;\n",
              "      border-radius: 50%;\n",
              "      cursor: pointer;\n",
              "      display: none;\n",
              "      fill: #1967D2;\n",
              "      height: 32px;\n",
              "      padding: 0 0 0 0;\n",
              "      width: 32px;\n",
              "    }\n",
              "\n",
              "    .colab-df-convert:hover {\n",
              "      background-color: #E2EBFA;\n",
              "      box-shadow: 0px 1px 2px rgba(60, 64, 67, 0.3), 0px 1px 3px 1px rgba(60, 64, 67, 0.15);\n",
              "      fill: #174EA6;\n",
              "    }\n",
              "\n",
              "    [theme=dark] .colab-df-convert {\n",
              "      background-color: #3B4455;\n",
              "      fill: #D2E3FC;\n",
              "    }\n",
              "\n",
              "    [theme=dark] .colab-df-convert:hover {\n",
              "      background-color: #434B5C;\n",
              "      box-shadow: 0px 1px 3px 1px rgba(0, 0, 0, 0.15);\n",
              "      filter: drop-shadow(0px 1px 2px rgba(0, 0, 0, 0.3));\n",
              "      fill: #FFFFFF;\n",
              "    }\n",
              "  </style>\n",
              "\n",
              "      <script>\n",
              "        const buttonEl =\n",
              "          document.querySelector('#df-bde4ed82-9fa9-4f5f-b5e0-d436f28ae938 button.colab-df-convert');\n",
              "        buttonEl.style.display =\n",
              "          google.colab.kernel.accessAllowed ? 'block' : 'none';\n",
              "\n",
              "        async function convertToInteractive(key) {\n",
              "          const element = document.querySelector('#df-bde4ed82-9fa9-4f5f-b5e0-d436f28ae938');\n",
              "          const dataTable =\n",
              "            await google.colab.kernel.invokeFunction('convertToInteractive',\n",
              "                                                     [key], {});\n",
              "          if (!dataTable) return;\n",
              "\n",
              "          const docLinkHtml = 'Like what you see? Visit the ' +\n",
              "            '<a target=\"_blank\" href=https://colab.research.google.com/notebooks/data_table.ipynb>data table notebook</a>'\n",
              "            + ' to learn more about interactive tables.';\n",
              "          element.innerHTML = '';\n",
              "          dataTable['output_type'] = 'display_data';\n",
              "          await google.colab.output.renderOutput(dataTable, element);\n",
              "          const docLink = document.createElement('div');\n",
              "          docLink.innerHTML = docLinkHtml;\n",
              "          element.appendChild(docLink);\n",
              "        }\n",
              "      </script>\n",
              "    </div>\n",
              "  </div>\n",
              "  "
            ]
          },
          "metadata": {},
          "execution_count": 15
        }
      ]
    },
    {
      "cell_type": "code",
      "source": [
        "data.describe(exclude=[np.number])"
      ],
      "metadata": {
        "id": "jLtXdd366msy",
        "colab": {
          "base_uri": "https://localhost:8080/",
          "height": 239
        },
        "outputId": "a5eed64b-36ed-4fd0-fbfd-3e05414e3497"
      },
      "execution_count": null,
      "outputs": [
        {
          "output_type": "execute_result",
          "data": {
            "text/plain": [
              "          lesion_id      image_id     dx dx_type    sex localization  \\\n",
              "count         10015         10015  10015   10015  10015        10015   \n",
              "unique         7470         10015      7       4      3           15   \n",
              "top     HAM_0003789  ISIC_0027419     nv   histo   male         back   \n",
              "freq              6             1   6705    5340   5406         2192   \n",
              "\n",
              "              dataset  \n",
              "count           10015  \n",
              "unique              4  \n",
              "top     vidir_molemax  \n",
              "freq             3954  "
            ],
            "text/html": [
              "\n",
              "  <div id=\"df-b4f97f2f-05ce-46ce-99c7-8096067d54f2\">\n",
              "    <div class=\"colab-df-container\">\n",
              "      <div>\n",
              "<style scoped>\n",
              "    .dataframe tbody tr th:only-of-type {\n",
              "        vertical-align: middle;\n",
              "    }\n",
              "\n",
              "    .dataframe tbody tr th {\n",
              "        vertical-align: top;\n",
              "    }\n",
              "\n",
              "    .dataframe thead th {\n",
              "        text-align: right;\n",
              "    }\n",
              "</style>\n",
              "<table border=\"1\" class=\"dataframe\">\n",
              "  <thead>\n",
              "    <tr style=\"text-align: right;\">\n",
              "      <th></th>\n",
              "      <th>lesion_id</th>\n",
              "      <th>image_id</th>\n",
              "      <th>dx</th>\n",
              "      <th>dx_type</th>\n",
              "      <th>sex</th>\n",
              "      <th>localization</th>\n",
              "      <th>dataset</th>\n",
              "    </tr>\n",
              "  </thead>\n",
              "  <tbody>\n",
              "    <tr>\n",
              "      <th>count</th>\n",
              "      <td>10015</td>\n",
              "      <td>10015</td>\n",
              "      <td>10015</td>\n",
              "      <td>10015</td>\n",
              "      <td>10015</td>\n",
              "      <td>10015</td>\n",
              "      <td>10015</td>\n",
              "    </tr>\n",
              "    <tr>\n",
              "      <th>unique</th>\n",
              "      <td>7470</td>\n",
              "      <td>10015</td>\n",
              "      <td>7</td>\n",
              "      <td>4</td>\n",
              "      <td>3</td>\n",
              "      <td>15</td>\n",
              "      <td>4</td>\n",
              "    </tr>\n",
              "    <tr>\n",
              "      <th>top</th>\n",
              "      <td>HAM_0003789</td>\n",
              "      <td>ISIC_0027419</td>\n",
              "      <td>nv</td>\n",
              "      <td>histo</td>\n",
              "      <td>male</td>\n",
              "      <td>back</td>\n",
              "      <td>vidir_molemax</td>\n",
              "    </tr>\n",
              "    <tr>\n",
              "      <th>freq</th>\n",
              "      <td>6</td>\n",
              "      <td>1</td>\n",
              "      <td>6705</td>\n",
              "      <td>5340</td>\n",
              "      <td>5406</td>\n",
              "      <td>2192</td>\n",
              "      <td>3954</td>\n",
              "    </tr>\n",
              "  </tbody>\n",
              "</table>\n",
              "</div>\n",
              "      <button class=\"colab-df-convert\" onclick=\"convertToInteractive('df-b4f97f2f-05ce-46ce-99c7-8096067d54f2')\"\n",
              "              title=\"Convert this dataframe to an interactive table.\"\n",
              "              style=\"display:none;\">\n",
              "        \n",
              "  <svg xmlns=\"http://www.w3.org/2000/svg\" height=\"24px\"viewBox=\"0 0 24 24\"\n",
              "       width=\"24px\">\n",
              "    <path d=\"M0 0h24v24H0V0z\" fill=\"none\"/>\n",
              "    <path d=\"M18.56 5.44l.94 2.06.94-2.06 2.06-.94-2.06-.94-.94-2.06-.94 2.06-2.06.94zm-11 1L8.5 8.5l.94-2.06 2.06-.94-2.06-.94L8.5 2.5l-.94 2.06-2.06.94zm10 10l.94 2.06.94-2.06 2.06-.94-2.06-.94-.94-2.06-.94 2.06-2.06.94z\"/><path d=\"M17.41 7.96l-1.37-1.37c-.4-.4-.92-.59-1.43-.59-.52 0-1.04.2-1.43.59L10.3 9.45l-7.72 7.72c-.78.78-.78 2.05 0 2.83L4 21.41c.39.39.9.59 1.41.59.51 0 1.02-.2 1.41-.59l7.78-7.78 2.81-2.81c.8-.78.8-2.07 0-2.86zM5.41 20L4 18.59l7.72-7.72 1.47 1.35L5.41 20z\"/>\n",
              "  </svg>\n",
              "      </button>\n",
              "      \n",
              "  <style>\n",
              "    .colab-df-container {\n",
              "      display:flex;\n",
              "      flex-wrap:wrap;\n",
              "      gap: 12px;\n",
              "    }\n",
              "\n",
              "    .colab-df-convert {\n",
              "      background-color: #E8F0FE;\n",
              "      border: none;\n",
              "      border-radius: 50%;\n",
              "      cursor: pointer;\n",
              "      display: none;\n",
              "      fill: #1967D2;\n",
              "      height: 32px;\n",
              "      padding: 0 0 0 0;\n",
              "      width: 32px;\n",
              "    }\n",
              "\n",
              "    .colab-df-convert:hover {\n",
              "      background-color: #E2EBFA;\n",
              "      box-shadow: 0px 1px 2px rgba(60, 64, 67, 0.3), 0px 1px 3px 1px rgba(60, 64, 67, 0.15);\n",
              "      fill: #174EA6;\n",
              "    }\n",
              "\n",
              "    [theme=dark] .colab-df-convert {\n",
              "      background-color: #3B4455;\n",
              "      fill: #D2E3FC;\n",
              "    }\n",
              "\n",
              "    [theme=dark] .colab-df-convert:hover {\n",
              "      background-color: #434B5C;\n",
              "      box-shadow: 0px 1px 3px 1px rgba(0, 0, 0, 0.15);\n",
              "      filter: drop-shadow(0px 1px 2px rgba(0, 0, 0, 0.3));\n",
              "      fill: #FFFFFF;\n",
              "    }\n",
              "  </style>\n",
              "\n",
              "      <script>\n",
              "        const buttonEl =\n",
              "          document.querySelector('#df-b4f97f2f-05ce-46ce-99c7-8096067d54f2 button.colab-df-convert');\n",
              "        buttonEl.style.display =\n",
              "          google.colab.kernel.accessAllowed ? 'block' : 'none';\n",
              "\n",
              "        async function convertToInteractive(key) {\n",
              "          const element = document.querySelector('#df-b4f97f2f-05ce-46ce-99c7-8096067d54f2');\n",
              "          const dataTable =\n",
              "            await google.colab.kernel.invokeFunction('convertToInteractive',\n",
              "                                                     [key], {});\n",
              "          if (!dataTable) return;\n",
              "\n",
              "          const docLinkHtml = 'Like what you see? Visit the ' +\n",
              "            '<a target=\"_blank\" href=https://colab.research.google.com/notebooks/data_table.ipynb>data table notebook</a>'\n",
              "            + ' to learn more about interactive tables.';\n",
              "          element.innerHTML = '';\n",
              "          dataTable['output_type'] = 'display_data';\n",
              "          await google.colab.output.renderOutput(dataTable, element);\n",
              "          const docLink = document.createElement('div');\n",
              "          docLink.innerHTML = docLinkHtml;\n",
              "          element.appendChild(docLink);\n",
              "        }\n",
              "      </script>\n",
              "    </div>\n",
              "  </div>\n",
              "  "
            ]
          },
          "metadata": {},
          "execution_count": 16
        }
      ]
    },
    {
      "cell_type": "code",
      "source": [
        "data.isnull().any().sum()"
      ],
      "metadata": {
        "id": "t2-H8QIq6mv9",
        "colab": {
          "base_uri": "https://localhost:8080/"
        },
        "outputId": "85a2791a-4609-4135-98d6-227ec55301f4"
      },
      "execution_count": null,
      "outputs": [
        {
          "output_type": "execute_result",
          "data": {
            "text/plain": [
              "0"
            ]
          },
          "metadata": {},
          "execution_count": 20
        }
      ]
    },
    {
      "cell_type": "code",
      "source": [
        "data['age'].fillna(value=int(data['age'].mean()), inplace=True)\n",
        "\n",
        "data['age'] = data['age'].astype('int32')"
      ],
      "metadata": {
        "id": "yN1Yfa5A6mzj"
      },
      "execution_count": null,
      "outputs": []
    },
    {
      "cell_type": "code",
      "source": [
        "data['cell_type'] = data['dx'].map(lesion_type_dict.get)\n",
        "data['path'] = data['image_id'].map(imageid_path_dict.get)"
      ],
      "metadata": {
        "id": "SII8X2ZSYEdx"
      },
      "execution_count": null,
      "outputs": []
    },
    {
      "cell_type": "code",
      "source": [
        "data.head()"
      ],
      "metadata": {
        "id": "L8o88BUDYIrO",
        "colab": {
          "base_uri": "https://localhost:8080/",
          "height": 530
        },
        "outputId": "0dce672a-fe3e-4fad-bc26-0ffe6ae9c7cd"
      },
      "execution_count": null,
      "outputs": [
        {
          "output_type": "execute_result",
          "data": {
            "text/plain": [
              "     lesion_id      image_id   dx dx_type  age   sex localization  \\\n",
              "0  HAM_0000118  ISIC_0027419  bkl   histo   80  male        scalp   \n",
              "1  HAM_0000118  ISIC_0025030  bkl   histo   80  male        scalp   \n",
              "2  HAM_0002730  ISIC_0026769  bkl   histo   80  male        scalp   \n",
              "3  HAM_0002730  ISIC_0025661  bkl   histo   80  male        scalp   \n",
              "4  HAM_0001466  ISIC_0031633  bkl   histo   75  male          ear   \n",
              "\n",
              "        dataset                            cell_type  \\\n",
              "0  vidir_modern  Benign keratosis-like lesions (bkl)   \n",
              "1  vidir_modern  Benign keratosis-like lesions (bkl)   \n",
              "2  vidir_modern  Benign keratosis-like lesions (bkl)   \n",
              "3  vidir_modern  Benign keratosis-like lesions (bkl)   \n",
              "4  vidir_modern  Benign keratosis-like lesions (bkl)   \n",
              "\n",
              "                                                path  \n",
              "0  /content/drive/MyDrive/Project_phase/ham10000_...  \n",
              "1  /content/drive/MyDrive/Project_phase/ham10000_...  \n",
              "2  /content/drive/MyDrive/Project_phase/ham10000_...  \n",
              "3  /content/drive/MyDrive/Project_phase/ham10000_...  \n",
              "4  /content/drive/MyDrive/Project_phase/ham10000_...  "
            ],
            "text/html": [
              "\n",
              "  <div id=\"df-d83ab309-3e39-46bf-b0a1-6d6576772a4a\">\n",
              "    <div class=\"colab-df-container\">\n",
              "      <div>\n",
              "<style scoped>\n",
              "    .dataframe tbody tr th:only-of-type {\n",
              "        vertical-align: middle;\n",
              "    }\n",
              "\n",
              "    .dataframe tbody tr th {\n",
              "        vertical-align: top;\n",
              "    }\n",
              "\n",
              "    .dataframe thead th {\n",
              "        text-align: right;\n",
              "    }\n",
              "</style>\n",
              "<table border=\"1\" class=\"dataframe\">\n",
              "  <thead>\n",
              "    <tr style=\"text-align: right;\">\n",
              "      <th></th>\n",
              "      <th>lesion_id</th>\n",
              "      <th>image_id</th>\n",
              "      <th>dx</th>\n",
              "      <th>dx_type</th>\n",
              "      <th>age</th>\n",
              "      <th>sex</th>\n",
              "      <th>localization</th>\n",
              "      <th>dataset</th>\n",
              "      <th>cell_type</th>\n",
              "      <th>path</th>\n",
              "    </tr>\n",
              "  </thead>\n",
              "  <tbody>\n",
              "    <tr>\n",
              "      <th>0</th>\n",
              "      <td>HAM_0000118</td>\n",
              "      <td>ISIC_0027419</td>\n",
              "      <td>bkl</td>\n",
              "      <td>histo</td>\n",
              "      <td>80</td>\n",
              "      <td>male</td>\n",
              "      <td>scalp</td>\n",
              "      <td>vidir_modern</td>\n",
              "      <td>Benign keratosis-like lesions (bkl)</td>\n",
              "      <td>/content/drive/MyDrive/Project_phase/ham10000_...</td>\n",
              "    </tr>\n",
              "    <tr>\n",
              "      <th>1</th>\n",
              "      <td>HAM_0000118</td>\n",
              "      <td>ISIC_0025030</td>\n",
              "      <td>bkl</td>\n",
              "      <td>histo</td>\n",
              "      <td>80</td>\n",
              "      <td>male</td>\n",
              "      <td>scalp</td>\n",
              "      <td>vidir_modern</td>\n",
              "      <td>Benign keratosis-like lesions (bkl)</td>\n",
              "      <td>/content/drive/MyDrive/Project_phase/ham10000_...</td>\n",
              "    </tr>\n",
              "    <tr>\n",
              "      <th>2</th>\n",
              "      <td>HAM_0002730</td>\n",
              "      <td>ISIC_0026769</td>\n",
              "      <td>bkl</td>\n",
              "      <td>histo</td>\n",
              "      <td>80</td>\n",
              "      <td>male</td>\n",
              "      <td>scalp</td>\n",
              "      <td>vidir_modern</td>\n",
              "      <td>Benign keratosis-like lesions (bkl)</td>\n",
              "      <td>/content/drive/MyDrive/Project_phase/ham10000_...</td>\n",
              "    </tr>\n",
              "    <tr>\n",
              "      <th>3</th>\n",
              "      <td>HAM_0002730</td>\n",
              "      <td>ISIC_0025661</td>\n",
              "      <td>bkl</td>\n",
              "      <td>histo</td>\n",
              "      <td>80</td>\n",
              "      <td>male</td>\n",
              "      <td>scalp</td>\n",
              "      <td>vidir_modern</td>\n",
              "      <td>Benign keratosis-like lesions (bkl)</td>\n",
              "      <td>/content/drive/MyDrive/Project_phase/ham10000_...</td>\n",
              "    </tr>\n",
              "    <tr>\n",
              "      <th>4</th>\n",
              "      <td>HAM_0001466</td>\n",
              "      <td>ISIC_0031633</td>\n",
              "      <td>bkl</td>\n",
              "      <td>histo</td>\n",
              "      <td>75</td>\n",
              "      <td>male</td>\n",
              "      <td>ear</td>\n",
              "      <td>vidir_modern</td>\n",
              "      <td>Benign keratosis-like lesions (bkl)</td>\n",
              "      <td>/content/drive/MyDrive/Project_phase/ham10000_...</td>\n",
              "    </tr>\n",
              "  </tbody>\n",
              "</table>\n",
              "</div>\n",
              "      <button class=\"colab-df-convert\" onclick=\"convertToInteractive('df-d83ab309-3e39-46bf-b0a1-6d6576772a4a')\"\n",
              "              title=\"Convert this dataframe to an interactive table.\"\n",
              "              style=\"display:none;\">\n",
              "        \n",
              "  <svg xmlns=\"http://www.w3.org/2000/svg\" height=\"24px\"viewBox=\"0 0 24 24\"\n",
              "       width=\"24px\">\n",
              "    <path d=\"M0 0h24v24H0V0z\" fill=\"none\"/>\n",
              "    <path d=\"M18.56 5.44l.94 2.06.94-2.06 2.06-.94-2.06-.94-.94-2.06-.94 2.06-2.06.94zm-11 1L8.5 8.5l.94-2.06 2.06-.94-2.06-.94L8.5 2.5l-.94 2.06-2.06.94zm10 10l.94 2.06.94-2.06 2.06-.94-2.06-.94-.94-2.06-.94 2.06-2.06.94z\"/><path d=\"M17.41 7.96l-1.37-1.37c-.4-.4-.92-.59-1.43-.59-.52 0-1.04.2-1.43.59L10.3 9.45l-7.72 7.72c-.78.78-.78 2.05 0 2.83L4 21.41c.39.39.9.59 1.41.59.51 0 1.02-.2 1.41-.59l7.78-7.78 2.81-2.81c.8-.78.8-2.07 0-2.86zM5.41 20L4 18.59l7.72-7.72 1.47 1.35L5.41 20z\"/>\n",
              "  </svg>\n",
              "      </button>\n",
              "      \n",
              "  <style>\n",
              "    .colab-df-container {\n",
              "      display:flex;\n",
              "      flex-wrap:wrap;\n",
              "      gap: 12px;\n",
              "    }\n",
              "\n",
              "    .colab-df-convert {\n",
              "      background-color: #E8F0FE;\n",
              "      border: none;\n",
              "      border-radius: 50%;\n",
              "      cursor: pointer;\n",
              "      display: none;\n",
              "      fill: #1967D2;\n",
              "      height: 32px;\n",
              "      padding: 0 0 0 0;\n",
              "      width: 32px;\n",
              "    }\n",
              "\n",
              "    .colab-df-convert:hover {\n",
              "      background-color: #E2EBFA;\n",
              "      box-shadow: 0px 1px 2px rgba(60, 64, 67, 0.3), 0px 1px 3px 1px rgba(60, 64, 67, 0.15);\n",
              "      fill: #174EA6;\n",
              "    }\n",
              "\n",
              "    [theme=dark] .colab-df-convert {\n",
              "      background-color: #3B4455;\n",
              "      fill: #D2E3FC;\n",
              "    }\n",
              "\n",
              "    [theme=dark] .colab-df-convert:hover {\n",
              "      background-color: #434B5C;\n",
              "      box-shadow: 0px 1px 3px 1px rgba(0, 0, 0, 0.15);\n",
              "      filter: drop-shadow(0px 1px 2px rgba(0, 0, 0, 0.3));\n",
              "      fill: #FFFFFF;\n",
              "    }\n",
              "  </style>\n",
              "\n",
              "      <script>\n",
              "        const buttonEl =\n",
              "          document.querySelector('#df-d83ab309-3e39-46bf-b0a1-6d6576772a4a button.colab-df-convert');\n",
              "        buttonEl.style.display =\n",
              "          google.colab.kernel.accessAllowed ? 'block' : 'none';\n",
              "\n",
              "        async function convertToInteractive(key) {\n",
              "          const element = document.querySelector('#df-d83ab309-3e39-46bf-b0a1-6d6576772a4a');\n",
              "          const dataTable =\n",
              "            await google.colab.kernel.invokeFunction('convertToInteractive',\n",
              "                                                     [key], {});\n",
              "          if (!dataTable) return;\n",
              "\n",
              "          const docLinkHtml = 'Like what you see? Visit the ' +\n",
              "            '<a target=\"_blank\" href=https://colab.research.google.com/notebooks/data_table.ipynb>data table notebook</a>'\n",
              "            + ' to learn more about interactive tables.';\n",
              "          element.innerHTML = '';\n",
              "          dataTable['output_type'] = 'display_data';\n",
              "          await google.colab.output.renderOutput(dataTable, element);\n",
              "          const docLink = document.createElement('div');\n",
              "          docLink.innerHTML = docLinkHtml;\n",
              "          element.appendChild(docLink);\n",
              "        }\n",
              "      </script>\n",
              "    </div>\n",
              "  </div>\n",
              "  "
            ]
          },
          "metadata": {},
          "execution_count": 22
        }
      ]
    },
    {
      "cell_type": "code",
      "source": [
        "data['image_pixel'] = data['path'].map(lambda x: np.asarray(Image.open(x).resize((28,28))))"
      ],
      "metadata": {
        "id": "JGcZKs_8YLbD",
        "colab": {
          "base_uri": "https://localhost:8080/",
          "height": 328
        },
        "outputId": "f8c76a29-01be-468a-f619-ddab2e6418c1"
      },
      "execution_count": null,
      "outputs": [
        {
          "output_type": "error",
          "ename": "KeyboardInterrupt",
          "evalue": "ignored",
          "traceback": [
            "\u001b[0;31m---------------------------------------------------------------------------\u001b[0m",
            "\u001b[0;31mKeyboardInterrupt\u001b[0m                         Traceback (most recent call last)",
            "\u001b[0;32m<ipython-input-23-c7ffc6a05e82>\u001b[0m in \u001b[0;36m<module>\u001b[0;34m\u001b[0m\n\u001b[0;32m----> 1\u001b[0;31m \u001b[0mdata\u001b[0m\u001b[0;34m[\u001b[0m\u001b[0;34m'image_pixel'\u001b[0m\u001b[0;34m]\u001b[0m \u001b[0;34m=\u001b[0m \u001b[0mdata\u001b[0m\u001b[0;34m[\u001b[0m\u001b[0;34m'path'\u001b[0m\u001b[0;34m]\u001b[0m\u001b[0;34m.\u001b[0m\u001b[0mmap\u001b[0m\u001b[0;34m(\u001b[0m\u001b[0;32mlambda\u001b[0m \u001b[0mx\u001b[0m\u001b[0;34m:\u001b[0m \u001b[0mnp\u001b[0m\u001b[0;34m.\u001b[0m\u001b[0masarray\u001b[0m\u001b[0;34m(\u001b[0m\u001b[0mImage\u001b[0m\u001b[0;34m.\u001b[0m\u001b[0mopen\u001b[0m\u001b[0;34m(\u001b[0m\u001b[0mx\u001b[0m\u001b[0;34m)\u001b[0m\u001b[0;34m.\u001b[0m\u001b[0mresize\u001b[0m\u001b[0;34m(\u001b[0m\u001b[0;34m(\u001b[0m\u001b[0;36m28\u001b[0m\u001b[0;34m,\u001b[0m\u001b[0;36m28\u001b[0m\u001b[0;34m)\u001b[0m\u001b[0;34m)\u001b[0m\u001b[0;34m)\u001b[0m\u001b[0;34m)\u001b[0m\u001b[0;34m\u001b[0m\u001b[0;34m\u001b[0m\u001b[0m\n\u001b[0m",
            "\u001b[0;32m/usr/local/lib/python3.7/dist-packages/pandas/core/series.py\u001b[0m in \u001b[0;36mmap\u001b[0;34m(self, arg, na_action)\u001b[0m\n\u001b[1;32m   4159\u001b[0m         \u001b[0mdtype\u001b[0m\u001b[0;34m:\u001b[0m \u001b[0mobject\u001b[0m\u001b[0;34m\u001b[0m\u001b[0;34m\u001b[0m\u001b[0m\n\u001b[1;32m   4160\u001b[0m         \"\"\"\n\u001b[0;32m-> 4161\u001b[0;31m         \u001b[0mnew_values\u001b[0m \u001b[0;34m=\u001b[0m \u001b[0msuper\u001b[0m\u001b[0;34m(\u001b[0m\u001b[0;34m)\u001b[0m\u001b[0;34m.\u001b[0m\u001b[0m_map_values\u001b[0m\u001b[0;34m(\u001b[0m\u001b[0marg\u001b[0m\u001b[0;34m,\u001b[0m \u001b[0mna_action\u001b[0m\u001b[0;34m=\u001b[0m\u001b[0mna_action\u001b[0m\u001b[0;34m)\u001b[0m\u001b[0;34m\u001b[0m\u001b[0;34m\u001b[0m\u001b[0m\n\u001b[0m\u001b[1;32m   4162\u001b[0m         return self._constructor(new_values, index=self.index).__finalize__(\n\u001b[1;32m   4163\u001b[0m             \u001b[0mself\u001b[0m\u001b[0;34m,\u001b[0m \u001b[0mmethod\u001b[0m\u001b[0;34m=\u001b[0m\u001b[0;34m\"map\"\u001b[0m\u001b[0;34m\u001b[0m\u001b[0;34m\u001b[0m\u001b[0m\n",
            "\u001b[0;32m/usr/local/lib/python3.7/dist-packages/pandas/core/base.py\u001b[0m in \u001b[0;36m_map_values\u001b[0;34m(self, mapper, na_action)\u001b[0m\n\u001b[1;32m    868\u001b[0m \u001b[0;34m\u001b[0m\u001b[0m\n\u001b[1;32m    869\u001b[0m         \u001b[0;31m# mapper is a function\u001b[0m\u001b[0;34m\u001b[0m\u001b[0;34m\u001b[0m\u001b[0;34m\u001b[0m\u001b[0m\n\u001b[0;32m--> 870\u001b[0;31m         \u001b[0mnew_values\u001b[0m \u001b[0;34m=\u001b[0m \u001b[0mmap_f\u001b[0m\u001b[0;34m(\u001b[0m\u001b[0mvalues\u001b[0m\u001b[0;34m,\u001b[0m \u001b[0mmapper\u001b[0m\u001b[0;34m)\u001b[0m\u001b[0;34m\u001b[0m\u001b[0;34m\u001b[0m\u001b[0m\n\u001b[0m\u001b[1;32m    871\u001b[0m \u001b[0;34m\u001b[0m\u001b[0m\n\u001b[1;32m    872\u001b[0m         \u001b[0;32mreturn\u001b[0m \u001b[0mnew_values\u001b[0m\u001b[0;34m\u001b[0m\u001b[0;34m\u001b[0m\u001b[0m\n",
            "\u001b[0;32m/usr/local/lib/python3.7/dist-packages/pandas/_libs/lib.pyx\u001b[0m in \u001b[0;36mpandas._libs.lib.map_infer\u001b[0;34m()\u001b[0m\n",
            "\u001b[0;32m<ipython-input-23-c7ffc6a05e82>\u001b[0m in \u001b[0;36m<lambda>\u001b[0;34m(x)\u001b[0m\n\u001b[0;32m----> 1\u001b[0;31m \u001b[0mdata\u001b[0m\u001b[0;34m[\u001b[0m\u001b[0;34m'image_pixel'\u001b[0m\u001b[0;34m]\u001b[0m \u001b[0;34m=\u001b[0m \u001b[0mdata\u001b[0m\u001b[0;34m[\u001b[0m\u001b[0;34m'path'\u001b[0m\u001b[0;34m]\u001b[0m\u001b[0;34m.\u001b[0m\u001b[0mmap\u001b[0m\u001b[0;34m(\u001b[0m\u001b[0;32mlambda\u001b[0m \u001b[0mx\u001b[0m\u001b[0;34m:\u001b[0m \u001b[0mnp\u001b[0m\u001b[0;34m.\u001b[0m\u001b[0masarray\u001b[0m\u001b[0;34m(\u001b[0m\u001b[0mImage\u001b[0m\u001b[0;34m.\u001b[0m\u001b[0mopen\u001b[0m\u001b[0;34m(\u001b[0m\u001b[0mx\u001b[0m\u001b[0;34m)\u001b[0m\u001b[0;34m.\u001b[0m\u001b[0mresize\u001b[0m\u001b[0;34m(\u001b[0m\u001b[0;34m(\u001b[0m\u001b[0;36m28\u001b[0m\u001b[0;34m,\u001b[0m\u001b[0;36m28\u001b[0m\u001b[0;34m)\u001b[0m\u001b[0;34m)\u001b[0m\u001b[0;34m)\u001b[0m\u001b[0;34m)\u001b[0m\u001b[0;34m\u001b[0m\u001b[0;34m\u001b[0m\u001b[0m\n\u001b[0m",
            "\u001b[0;32m/usr/local/lib/python3.7/dist-packages/PIL/Image.py\u001b[0m in \u001b[0;36mopen\u001b[0;34m(fp, mode)\u001b[0m\n\u001b[1;32m   2850\u001b[0m         \u001b[0mexclusive_fp\u001b[0m \u001b[0;34m=\u001b[0m \u001b[0;32mTrue\u001b[0m\u001b[0;34m\u001b[0m\u001b[0;34m\u001b[0m\u001b[0m\n\u001b[1;32m   2851\u001b[0m \u001b[0;34m\u001b[0m\u001b[0m\n\u001b[0;32m-> 2852\u001b[0;31m     \u001b[0mprefix\u001b[0m \u001b[0;34m=\u001b[0m \u001b[0mfp\u001b[0m\u001b[0;34m.\u001b[0m\u001b[0mread\u001b[0m\u001b[0;34m(\u001b[0m\u001b[0;36m16\u001b[0m\u001b[0;34m)\u001b[0m\u001b[0;34m\u001b[0m\u001b[0;34m\u001b[0m\u001b[0m\n\u001b[0m\u001b[1;32m   2853\u001b[0m \u001b[0;34m\u001b[0m\u001b[0m\n\u001b[1;32m   2854\u001b[0m     \u001b[0mpreinit\u001b[0m\u001b[0;34m(\u001b[0m\u001b[0;34m)\u001b[0m\u001b[0;34m\u001b[0m\u001b[0;34m\u001b[0m\u001b[0m\n",
            "\u001b[0;31mKeyboardInterrupt\u001b[0m: "
          ]
        }
      ]
    },
    {
      "cell_type": "code",
      "source": [
        "data.head()"
      ],
      "metadata": {
        "id": "6quIQDwSYN1a",
        "colab": {
          "base_uri": "https://localhost:8080/",
          "height": 250
        },
        "outputId": "399cae51-c8e8-4ba7-c1b8-f34458f4209c"
      },
      "execution_count": null,
      "outputs": [
        {
          "output_type": "execute_result",
          "data": {
            "text/plain": [
              "     lesion_id      image_id   dx dx_type  age   sex localization  \\\n",
              "0  HAM_0000118  ISIC_0027419  bkl   histo   80  male        scalp   \n",
              "1  HAM_0000118  ISIC_0025030  bkl   histo   80  male        scalp   \n",
              "2  HAM_0002730  ISIC_0026769  bkl   histo   80  male        scalp   \n",
              "3  HAM_0002730  ISIC_0025661  bkl   histo   80  male        scalp   \n",
              "4  HAM_0001466  ISIC_0031633  bkl   histo   75  male          ear   \n",
              "\n",
              "        dataset                            cell_type  \\\n",
              "0  vidir_modern  Benign keratosis-like lesions (bkl)   \n",
              "1  vidir_modern  Benign keratosis-like lesions (bkl)   \n",
              "2  vidir_modern  Benign keratosis-like lesions (bkl)   \n",
              "3  vidir_modern  Benign keratosis-like lesions (bkl)   \n",
              "4  vidir_modern  Benign keratosis-like lesions (bkl)   \n",
              "\n",
              "                                                path  \\\n",
              "0  /content/drive/MyDrive/Project_phase/ham10000_...   \n",
              "1  /content/drive/MyDrive/Project_phase/ham10000_...   \n",
              "2  /content/drive/MyDrive/Project_phase/ham10000_...   \n",
              "3  /content/drive/MyDrive/Project_phase/ham10000_...   \n",
              "4  /content/drive/MyDrive/Project_phase/ham10000_...   \n",
              "\n",
              "                                         image_pixel  \n",
              "0  [[[192, 153, 193], [195, 155, 192], [197, 154,...  \n",
              "1  [[[27, 16, 32], [69, 49, 76], [122, 93, 126], ...  \n",
              "2  [[[192, 138, 153], [200, 144, 162], [202, 142,...  \n",
              "3  [[[40, 21, 31], [95, 61, 73], [143, 102, 118],...  \n",
              "4  [[[159, 114, 140], [194, 144, 173], [215, 162,...  "
            ],
            "text/html": [
              "\n",
              "  <div id=\"df-b4c558ec-8a30-4af4-9d4e-faedf5ef1102\">\n",
              "    <div class=\"colab-df-container\">\n",
              "      <div>\n",
              "<style scoped>\n",
              "    .dataframe tbody tr th:only-of-type {\n",
              "        vertical-align: middle;\n",
              "    }\n",
              "\n",
              "    .dataframe tbody tr th {\n",
              "        vertical-align: top;\n",
              "    }\n",
              "\n",
              "    .dataframe thead th {\n",
              "        text-align: right;\n",
              "    }\n",
              "</style>\n",
              "<table border=\"1\" class=\"dataframe\">\n",
              "  <thead>\n",
              "    <tr style=\"text-align: right;\">\n",
              "      <th></th>\n",
              "      <th>lesion_id</th>\n",
              "      <th>image_id</th>\n",
              "      <th>dx</th>\n",
              "      <th>dx_type</th>\n",
              "      <th>age</th>\n",
              "      <th>sex</th>\n",
              "      <th>localization</th>\n",
              "      <th>dataset</th>\n",
              "      <th>cell_type</th>\n",
              "      <th>path</th>\n",
              "      <th>image_pixel</th>\n",
              "    </tr>\n",
              "  </thead>\n",
              "  <tbody>\n",
              "    <tr>\n",
              "      <th>0</th>\n",
              "      <td>HAM_0000118</td>\n",
              "      <td>ISIC_0027419</td>\n",
              "      <td>bkl</td>\n",
              "      <td>histo</td>\n",
              "      <td>80</td>\n",
              "      <td>male</td>\n",
              "      <td>scalp</td>\n",
              "      <td>vidir_modern</td>\n",
              "      <td>Benign keratosis-like lesions (bkl)</td>\n",
              "      <td>/content/drive/MyDrive/Project_phase/ham10000_...</td>\n",
              "      <td>[[[192, 153, 193], [195, 155, 192], [197, 154,...</td>\n",
              "    </tr>\n",
              "    <tr>\n",
              "      <th>1</th>\n",
              "      <td>HAM_0000118</td>\n",
              "      <td>ISIC_0025030</td>\n",
              "      <td>bkl</td>\n",
              "      <td>histo</td>\n",
              "      <td>80</td>\n",
              "      <td>male</td>\n",
              "      <td>scalp</td>\n",
              "      <td>vidir_modern</td>\n",
              "      <td>Benign keratosis-like lesions (bkl)</td>\n",
              "      <td>/content/drive/MyDrive/Project_phase/ham10000_...</td>\n",
              "      <td>[[[27, 16, 32], [69, 49, 76], [122, 93, 126], ...</td>\n",
              "    </tr>\n",
              "    <tr>\n",
              "      <th>2</th>\n",
              "      <td>HAM_0002730</td>\n",
              "      <td>ISIC_0026769</td>\n",
              "      <td>bkl</td>\n",
              "      <td>histo</td>\n",
              "      <td>80</td>\n",
              "      <td>male</td>\n",
              "      <td>scalp</td>\n",
              "      <td>vidir_modern</td>\n",
              "      <td>Benign keratosis-like lesions (bkl)</td>\n",
              "      <td>/content/drive/MyDrive/Project_phase/ham10000_...</td>\n",
              "      <td>[[[192, 138, 153], [200, 144, 162], [202, 142,...</td>\n",
              "    </tr>\n",
              "    <tr>\n",
              "      <th>3</th>\n",
              "      <td>HAM_0002730</td>\n",
              "      <td>ISIC_0025661</td>\n",
              "      <td>bkl</td>\n",
              "      <td>histo</td>\n",
              "      <td>80</td>\n",
              "      <td>male</td>\n",
              "      <td>scalp</td>\n",
              "      <td>vidir_modern</td>\n",
              "      <td>Benign keratosis-like lesions (bkl)</td>\n",
              "      <td>/content/drive/MyDrive/Project_phase/ham10000_...</td>\n",
              "      <td>[[[40, 21, 31], [95, 61, 73], [143, 102, 118],...</td>\n",
              "    </tr>\n",
              "    <tr>\n",
              "      <th>4</th>\n",
              "      <td>HAM_0001466</td>\n",
              "      <td>ISIC_0031633</td>\n",
              "      <td>bkl</td>\n",
              "      <td>histo</td>\n",
              "      <td>75</td>\n",
              "      <td>male</td>\n",
              "      <td>ear</td>\n",
              "      <td>vidir_modern</td>\n",
              "      <td>Benign keratosis-like lesions (bkl)</td>\n",
              "      <td>/content/drive/MyDrive/Project_phase/ham10000_...</td>\n",
              "      <td>[[[159, 114, 140], [194, 144, 173], [215, 162,...</td>\n",
              "    </tr>\n",
              "  </tbody>\n",
              "</table>\n",
              "</div>\n",
              "      <button class=\"colab-df-convert\" onclick=\"convertToInteractive('df-b4c558ec-8a30-4af4-9d4e-faedf5ef1102')\"\n",
              "              title=\"Convert this dataframe to an interactive table.\"\n",
              "              style=\"display:none;\">\n",
              "        \n",
              "  <svg xmlns=\"http://www.w3.org/2000/svg\" height=\"24px\"viewBox=\"0 0 24 24\"\n",
              "       width=\"24px\">\n",
              "    <path d=\"M0 0h24v24H0V0z\" fill=\"none\"/>\n",
              "    <path d=\"M18.56 5.44l.94 2.06.94-2.06 2.06-.94-2.06-.94-.94-2.06-.94 2.06-2.06.94zm-11 1L8.5 8.5l.94-2.06 2.06-.94-2.06-.94L8.5 2.5l-.94 2.06-2.06.94zm10 10l.94 2.06.94-2.06 2.06-.94-2.06-.94-.94-2.06-.94 2.06-2.06.94z\"/><path d=\"M17.41 7.96l-1.37-1.37c-.4-.4-.92-.59-1.43-.59-.52 0-1.04.2-1.43.59L10.3 9.45l-7.72 7.72c-.78.78-.78 2.05 0 2.83L4 21.41c.39.39.9.59 1.41.59.51 0 1.02-.2 1.41-.59l7.78-7.78 2.81-2.81c.8-.78.8-2.07 0-2.86zM5.41 20L4 18.59l7.72-7.72 1.47 1.35L5.41 20z\"/>\n",
              "  </svg>\n",
              "      </button>\n",
              "      \n",
              "  <style>\n",
              "    .colab-df-container {\n",
              "      display:flex;\n",
              "      flex-wrap:wrap;\n",
              "      gap: 12px;\n",
              "    }\n",
              "\n",
              "    .colab-df-convert {\n",
              "      background-color: #E8F0FE;\n",
              "      border: none;\n",
              "      border-radius: 50%;\n",
              "      cursor: pointer;\n",
              "      display: none;\n",
              "      fill: #1967D2;\n",
              "      height: 32px;\n",
              "      padding: 0 0 0 0;\n",
              "      width: 32px;\n",
              "    }\n",
              "\n",
              "    .colab-df-convert:hover {\n",
              "      background-color: #E2EBFA;\n",
              "      box-shadow: 0px 1px 2px rgba(60, 64, 67, 0.3), 0px 1px 3px 1px rgba(60, 64, 67, 0.15);\n",
              "      fill: #174EA6;\n",
              "    }\n",
              "\n",
              "    [theme=dark] .colab-df-convert {\n",
              "      background-color: #3B4455;\n",
              "      fill: #D2E3FC;\n",
              "    }\n",
              "\n",
              "    [theme=dark] .colab-df-convert:hover {\n",
              "      background-color: #434B5C;\n",
              "      box-shadow: 0px 1px 3px 1px rgba(0, 0, 0, 0.15);\n",
              "      filter: drop-shadow(0px 1px 2px rgba(0, 0, 0, 0.3));\n",
              "      fill: #FFFFFF;\n",
              "    }\n",
              "  </style>\n",
              "\n",
              "      <script>\n",
              "        const buttonEl =\n",
              "          document.querySelector('#df-b4c558ec-8a30-4af4-9d4e-faedf5ef1102 button.colab-df-convert');\n",
              "        buttonEl.style.display =\n",
              "          google.colab.kernel.accessAllowed ? 'block' : 'none';\n",
              "\n",
              "        async function convertToInteractive(key) {\n",
              "          const element = document.querySelector('#df-b4c558ec-8a30-4af4-9d4e-faedf5ef1102');\n",
              "          const dataTable =\n",
              "            await google.colab.kernel.invokeFunction('convertToInteractive',\n",
              "                                                     [key], {});\n",
              "          if (!dataTable) return;\n",
              "\n",
              "          const docLinkHtml = 'Like what you see? Visit the ' +\n",
              "            '<a target=\"_blank\" href=https://colab.research.google.com/notebooks/data_table.ipynb>data table notebook</a>'\n",
              "            + ' to learn more about interactive tables.';\n",
              "          element.innerHTML = '';\n",
              "          dataTable['output_type'] = 'display_data';\n",
              "          await google.colab.output.renderOutput(dataTable, element);\n",
              "          const docLink = document.createElement('div');\n",
              "          docLink.innerHTML = docLinkHtml;\n",
              "          element.appendChild(docLink);\n",
              "        }\n",
              "      </script>\n",
              "    </div>\n",
              "  </div>\n",
              "  "
            ]
          },
          "metadata": {},
          "execution_count": 27
        }
      ]
    },
    {
      "cell_type": "code",
      "source": [
        "data['label'] = data['dx'].map(reverse_label_mapping.get)\n",
        "\n",
        "data = data.sort_values('label')\n",
        "data = data.reset_index()"
      ],
      "metadata": {
        "id": "BxfkmwhREcxc"
      },
      "execution_count": null,
      "outputs": []
    },
    {
      "cell_type": "code",
      "source": [
        "counter = 0\n",
        "frames = [data]\n",
        "for i in [4,4,11,17,45,52]:\n",
        "    counter+=1\n",
        "    index = data[data['label'] == counter].index.values\n",
        "    df_index = data.iloc[int(min(index)):int(max(index)+1)]\n",
        "    df_index = df_index.append([df_index]*i, ignore_index = True)\n",
        "    frames.append(df_index)\n",
        "    "
      ],
      "metadata": {
        "id": "Cb1_ctSLFdja"
      },
      "execution_count": null,
      "outputs": []
    },
    {
      "cell_type": "code",
      "source": [
        "len(frames)"
      ],
      "metadata": {
        "id": "AKZA4DjXFix4",
        "colab": {
          "base_uri": "https://localhost:8080/"
        },
        "outputId": "b41f54e4-57df-4b7e-be28-120666b1d046"
      },
      "execution_count": null,
      "outputs": [
        {
          "output_type": "execute_result",
          "data": {
            "text/plain": [
              "7"
            ]
          },
          "metadata": {},
          "execution_count": 30
        }
      ]
    },
    {
      "cell_type": "code",
      "source": [
        "final_data = pd.concat(frames)"
      ],
      "metadata": {
        "id": "r0rsKncuFkpy"
      },
      "execution_count": null,
      "outputs": []
    },
    {
      "cell_type": "code",
      "source": [
        "print(data.shape)\n",
        "print(final_data.shape)"
      ],
      "metadata": {
        "id": "lWM4uNGhFm6p",
        "colab": {
          "base_uri": "https://localhost:8080/"
        },
        "outputId": "c674829b-7821-4d65-96b7-2b43e05d3414"
      },
      "execution_count": null,
      "outputs": [
        {
          "output_type": "stream",
          "name": "stdout",
          "text": [
            "(10015, 13)\n",
            "(45756, 13)\n"
          ]
        }
      ]
    },
    {
      "cell_type": "code",
      "source": [
        "X_orig = data['image_pixel'].to_numpy()\n",
        "X_orig = np.stack(X_orig, axis=0)\n",
        "Y_orig = np.array(data.iloc[:, -1:])\n",
        "print(X_orig.shape)\n",
        "print(Y_orig.shape)\n"
      ],
      "metadata": {
        "id": "xUk69339Fqo_",
        "colab": {
          "base_uri": "https://localhost:8080/"
        },
        "outputId": "abf20315-b40a-4016-dae5-5b541850668e"
      },
      "execution_count": null,
      "outputs": [
        {
          "output_type": "stream",
          "name": "stdout",
          "text": [
            "(10015, 28, 28, 3)\n",
            "(10015, 1)\n"
          ]
        }
      ]
    },
    {
      "cell_type": "code",
      "source": [
        "X_aug = final_data['image_pixel'].to_numpy()\n",
        "X_aug = np.stack(X_aug, axis=0)\n",
        "Y_aug = np.array(final_data.iloc[:, -1:])\n",
        "print(X_aug.shape)\n",
        "print(Y_aug.shape)"
      ],
      "metadata": {
        "id": "0fGbPkFdF5mH",
        "colab": {
          "base_uri": "https://localhost:8080/"
        },
        "outputId": "851436cb-b815-4a62-98f7-57c5b9e84c87"
      },
      "execution_count": null,
      "outputs": [
        {
          "output_type": "stream",
          "name": "stdout",
          "text": [
            "(45756, 28, 28, 3)\n",
            "(45756, 1)\n"
          ]
        }
      ]
    },
    {
      "cell_type": "code",
      "source": [
        "model =create_model()"
      ],
      "metadata": {
        "id": "KjvYUdF9F80L",
        "colab": {
          "base_uri": "https://localhost:8080/"
        },
        "outputId": "34b816d2-f877-49b1-d1dd-6dee90796da9"
      },
      "execution_count": null,
      "outputs": [
        {
          "output_type": "stream",
          "name": "stdout",
          "text": [
            "Model: \"sequential\"\n",
            "_________________________________________________________________\n",
            " Layer (type)                Output Shape              Param #   \n",
            "=================================================================\n",
            " conv2d (Conv2D)             (None, 28, 28, 16)        448       \n",
            "                                                                 \n",
            " max_pooling2d (MaxPooling2D  (None, 14, 14, 16)       0         \n",
            " )                                                               \n",
            "                                                                 \n",
            " conv2d_1 (Conv2D)           (None, 14, 14, 32)        4640      \n",
            "                                                                 \n",
            " max_pooling2d_1 (MaxPooling  (None, 7, 7, 32)         0         \n",
            " 2D)                                                             \n",
            "                                                                 \n",
            " conv2d_2 (Conv2D)           (None, 7, 7, 64)          18496     \n",
            "                                                                 \n",
            " max_pooling2d_2 (MaxPooling  (None, 4, 4, 64)         0         \n",
            " 2D)                                                             \n",
            "                                                                 \n",
            " conv2d_3 (Conv2D)           (None, 4, 4, 128)         73856     \n",
            "                                                                 \n",
            " max_pooling2d_3 (MaxPooling  (None, 2, 2, 128)        0         \n",
            " 2D)                                                             \n",
            "                                                                 \n",
            " flatten (Flatten)           (None, 512)               0         \n",
            "                                                                 \n",
            " dense (Dense)               (None, 64)                32832     \n",
            "                                                                 \n",
            " dense_1 (Dense)             (None, 32)                2080      \n",
            "                                                                 \n",
            " dense_2 (Dense)             (None, 7)                 231       \n",
            "                                                                 \n",
            "=================================================================\n",
            "Total params: 132,583\n",
            "Trainable params: 132,583\n",
            "Non-trainable params: 0\n",
            "_________________________________________________________________\n",
            "None\n"
          ]
        }
      ]
    },
    {
      "cell_type": "code",
      "source": [
        "X_train_aug, X_test_aug, Y_train_aug, Y_test_aug = prepare_for_train_test(X_aug, Y_aug)"
      ],
      "metadata": {
        "id": "3VgAjMh7GKPM"
      },
      "execution_count": null,
      "outputs": []
    },
    {
      "cell_type": "code",
      "source": [
        "model2_history = train_model(model, X_train_aug, Y_train_aug, 3)"
      ],
      "metadata": {
        "id": "suLd3FJOGTIx",
        "colab": {
          "base_uri": "https://localhost:8080/"
        },
        "outputId": "b650f7f6-7e7c-42a9-c017-d4b0761113d7"
      },
      "execution_count": null,
      "outputs": [
        {
          "output_type": "stream",
          "name": "stdout",
          "text": [
            "Epoch 1/3\n",
            "458/458 [==============================] - 14s 12ms/step - loss: 1.7739 - accuracy: 0.4013 - val_loss: 1.1296 - val_accuracy: 0.5650 - lr: 0.0010\n",
            "Epoch 2/3\n",
            "458/458 [==============================] - 4s 9ms/step - loss: 0.9807 - accuracy: 0.6247 - val_loss: 0.8168 - val_accuracy: 0.6898 - lr: 0.0010\n",
            "Epoch 3/3\n",
            "458/458 [==============================] - 3s 5ms/step - loss: 0.7188 - accuracy: 0.7289 - val_loss: 0.7077 - val_accuracy: 0.7130 - lr: 0.0010\n"
          ]
        }
      ]
    },
    {
      "cell_type": "code",
      "source": [
        "model2_history = train_model(model, X_train_aug, Y_train_aug, 50)"
      ],
      "metadata": {
        "id": "vHA6P-LbGe4r",
        "colab": {
          "base_uri": "https://localhost:8080/"
        },
        "outputId": "7914a11c-2961-4227-a016-0fd8b441a4a4"
      },
      "execution_count": null,
      "outputs": [
        {
          "output_type": "stream",
          "name": "stdout",
          "text": [
            "Epoch 1/50\n",
            "458/458 [==============================] - 3s 5ms/step - loss: 0.5517 - accuracy: 0.7934 - val_loss: 0.5569 - val_accuracy: 0.7760 - lr: 0.0010\n",
            "Epoch 2/50\n",
            "458/458 [==============================] - 2s 5ms/step - loss: 0.4276 - accuracy: 0.8412 - val_loss: 0.4293 - val_accuracy: 0.8409 - lr: 0.0010\n",
            "Epoch 3/50\n",
            "458/458 [==============================] - 2s 5ms/step - loss: 0.3501 - accuracy: 0.8696 - val_loss: 0.3190 - val_accuracy: 0.8843 - lr: 0.0010\n",
            "Epoch 4/50\n",
            "458/458 [==============================] - 2s 5ms/step - loss: 0.2890 - accuracy: 0.8932 - val_loss: 0.3107 - val_accuracy: 0.8823 - lr: 0.0010\n",
            "Epoch 5/50\n",
            "458/458 [==============================] - 2s 5ms/step - loss: 0.2211 - accuracy: 0.9185 - val_loss: 0.3215 - val_accuracy: 0.8851 - lr: 0.0010\n",
            "Epoch 6/50\n",
            "458/458 [==============================] - 2s 5ms/step - loss: 0.2145 - accuracy: 0.9193 - val_loss: 0.2676 - val_accuracy: 0.9058 - lr: 0.0010\n",
            "Epoch 7/50\n",
            "458/458 [==============================] - 2s 5ms/step - loss: 0.1885 - accuracy: 0.9321 - val_loss: 0.2003 - val_accuracy: 0.9309 - lr: 0.0010\n",
            "Epoch 8/50\n",
            "458/458 [==============================] - 2s 5ms/step - loss: 0.1798 - accuracy: 0.9352 - val_loss: 0.2465 - val_accuracy: 0.9276 - lr: 0.0010\n",
            "Epoch 9/50\n",
            "458/458 [==============================] - 2s 5ms/step - loss: 0.1441 - accuracy: 0.9486 - val_loss: 0.2302 - val_accuracy: 0.9194 - lr: 0.0010\n",
            "Epoch 10/50\n",
            "458/458 [==============================] - 2s 5ms/step - loss: 0.1131 - accuracy: 0.9598 - val_loss: 0.1377 - val_accuracy: 0.9600 - lr: 0.0010\n",
            "Epoch 11/50\n",
            "458/458 [==============================] - 2s 5ms/step - loss: 0.1367 - accuracy: 0.9524 - val_loss: 0.2123 - val_accuracy: 0.9335 - lr: 0.0010\n",
            "Epoch 12/50\n",
            "458/458 [==============================] - 3s 6ms/step - loss: 0.1056 - accuracy: 0.9624 - val_loss: 0.2115 - val_accuracy: 0.9343 - lr: 0.0010\n",
            "Epoch 13/50\n",
            "457/458 [============================>.] - ETA: 0s - loss: 0.1277 - accuracy: 0.9541\n",
            "Epoch 13: ReduceLROnPlateau reducing learning rate to 0.00010000000474974513.\n",
            "458/458 [==============================] - 2s 5ms/step - loss: 0.1276 - accuracy: 0.9542 - val_loss: 0.1710 - val_accuracy: 0.9493 - lr: 0.0010\n",
            "Epoch 14/50\n",
            "458/458 [==============================] - 2s 5ms/step - loss: 0.0304 - accuracy: 0.9910 - val_loss: 0.1018 - val_accuracy: 0.9739 - lr: 1.0000e-04\n",
            "Epoch 15/50\n",
            "458/458 [==============================] - 2s 5ms/step - loss: 0.0154 - accuracy: 0.9966 - val_loss: 0.0949 - val_accuracy: 0.9775 - lr: 1.0000e-04\n",
            "Epoch 16/50\n",
            "458/458 [==============================] - 2s 5ms/step - loss: 0.0101 - accuracy: 0.9984 - val_loss: 0.0943 - val_accuracy: 0.9773 - lr: 1.0000e-04\n",
            "Epoch 17/50\n",
            "458/458 [==============================] - 2s 5ms/step - loss: 0.0072 - accuracy: 0.9990 - val_loss: 0.0983 - val_accuracy: 0.9783 - lr: 1.0000e-04\n",
            "Epoch 18/50\n",
            "458/458 [==============================] - 3s 6ms/step - loss: 0.0051 - accuracy: 0.9995 - val_loss: 0.1000 - val_accuracy: 0.9787 - lr: 1.0000e-04\n",
            "Epoch 19/50\n",
            "457/458 [============================>.] - ETA: 0s - loss: 0.0037 - accuracy: 0.9997\n",
            "Epoch 19: ReduceLROnPlateau reducing learning rate to 1.0000000474974514e-05.\n",
            "458/458 [==============================] - 5s 12ms/step - loss: 0.0037 - accuracy: 0.9997 - val_loss: 0.0968 - val_accuracy: 0.9788 - lr: 1.0000e-04\n",
            "Epoch 20/50\n",
            "458/458 [==============================] - 3s 7ms/step - loss: 0.0027 - accuracy: 1.0000 - val_loss: 0.1012 - val_accuracy: 0.9790 - lr: 1.0000e-05\n",
            "Epoch 21/50\n",
            "458/458 [==============================] - 2s 5ms/step - loss: 0.0025 - accuracy: 1.0000 - val_loss: 0.1048 - val_accuracy: 0.9784 - lr: 1.0000e-05\n",
            "Epoch 22/50\n",
            "452/458 [============================>.] - ETA: 0s - loss: 0.0024 - accuracy: 1.0000\n",
            "Epoch 22: ReduceLROnPlateau reducing learning rate to 1.0000000656873453e-06.\n",
            "458/458 [==============================] - 3s 6ms/step - loss: 0.0024 - accuracy: 1.0000 - val_loss: 0.1037 - val_accuracy: 0.9788 - lr: 1.0000e-05\n",
            "Epoch 23/50\n",
            "458/458 [==============================] - 2s 5ms/step - loss: 0.0022 - accuracy: 1.0000 - val_loss: 0.1037 - val_accuracy: 0.9788 - lr: 1.0000e-06\n",
            "Epoch 24/50\n",
            "458/458 [==============================] - 2s 5ms/step - loss: 0.0022 - accuracy: 1.0000 - val_loss: 0.1035 - val_accuracy: 0.9788 - lr: 1.0000e-06\n",
            "Epoch 25/50\n",
            "449/458 [============================>.] - ETA: 0s - loss: 0.0022 - accuracy: 1.0000\n",
            "Epoch 25: ReduceLROnPlateau reducing learning rate to 1.0000001111620805e-07.\n",
            "458/458 [==============================] - 3s 6ms/step - loss: 0.0022 - accuracy: 1.0000 - val_loss: 0.1036 - val_accuracy: 0.9788 - lr: 1.0000e-06\n",
            "Epoch 26/50\n",
            "458/458 [==============================] - 2s 5ms/step - loss: 0.0022 - accuracy: 1.0000 - val_loss: 0.1036 - val_accuracy: 0.9788 - lr: 1.0000e-07\n",
            "Epoch 26: early stopping\n"
          ]
        }
      ]
    },
    {
      "cell_type": "code",
      "source": [
        "model"
      ],
      "metadata": {
        "id": "eCtD0Cw_GlRT",
        "colab": {
          "base_uri": "https://localhost:8080/"
        },
        "outputId": "b176a1a2-cc31-4c79-92cd-ff5fc389249c"
      },
      "execution_count": null,
      "outputs": [
        {
          "output_type": "execute_result",
          "data": {
            "text/plain": [
              "<keras.engine.sequential.Sequential at 0x7f8972611d50>"
            ]
          },
          "metadata": {},
          "execution_count": 39
        }
      ]
    },
    {
      "cell_type": "code",
      "source": [
        "model.save('Skin_Cancer.sav')"
      ],
      "metadata": {
        "id": "wFbABdfTG5sB",
        "colab": {
          "base_uri": "https://localhost:8080/"
        },
        "outputId": "e9e2f5fe-eaec-4b98-b968-af9bf0df9115"
      },
      "execution_count": null,
      "outputs": [
        {
          "output_type": "stream",
          "name": "stderr",
          "text": [
            "WARNING:absl:Found untraced functions such as _jit_compiled_convolution_op, _jit_compiled_convolution_op, _jit_compiled_convolution_op, _jit_compiled_convolution_op while saving (showing 4 of 4). These functions will not be directly callable after loading.\n"
          ]
        }
      ]
    },
    {
      "cell_type": "code",
      "source": [
        "model.save_weights(\"Skin_Cancer.hdf5\")"
      ],
      "metadata": {
        "id": "-bJUP20eHmTW"
      },
      "execution_count": null,
      "outputs": []
    },
    {
      "cell_type": "code",
      "source": [
        "X_train_orig, X_test_orig, Y_train_orig, Y_test_orig = prepare_for_train_test(X_orig, Y_orig)v"
      ],
      "metadata": {
        "id": "EUdIla1jHvc1"
      },
      "execution_count": null,
      "outputs": []
    },
    {
      "cell_type": "code",
      "source": [
        "final_data.head()"
      ],
      "metadata": {
        "colab": {
          "base_uri": "https://localhost:8080/",
          "height": 4612
        },
        "id": "sL_p6Zi8cmj7",
        "outputId": "69b12826-5095-46b2-fd0a-d84a6395bb37"
      },
      "execution_count": null,
      "outputs": [
        {
          "output_type": "execute_result",
          "data": {
            "text/plain": [
              "   index    lesion_id      image_id  dx    dx_type  age     sex  \\\n",
              "0   5007  HAM_0006322  ISIC_0030309  nv  follow_up   55    male   \n",
              "1   4478  HAM_0003084  ISIC_0026191  nv  follow_up   45  female   \n",
              "2   4477  HAM_0002093  ISIC_0027032  nv  follow_up   45  female   \n",
              "3   4476  HAM_0003701  ISIC_0027191  nv  follow_up   45  female   \n",
              "4   4475  HAM_0003806  ISIC_0028667  nv  follow_up   45  female   \n",
              "\n",
              "      localization        dataset              cell_type  \\\n",
              "0             foot  vidir_molemax  Melanocytic nevi (nv)   \n",
              "1  upper extremity  vidir_molemax  Melanocytic nevi (nv)   \n",
              "2             back  vidir_molemax  Melanocytic nevi (nv)   \n",
              "3  lower extremity  vidir_molemax  Melanocytic nevi (nv)   \n",
              "4  lower extremity  vidir_molemax  Melanocytic nevi (nv)   \n",
              "\n",
              "                                                path  \\\n",
              "0  /content/drive/MyDrive/Project_phase/ham10000_...   \n",
              "1  /content/drive/MyDrive/Project_phase/ham10000_...   \n",
              "2  /content/drive/MyDrive/Project_phase/ham10000_...   \n",
              "3  /content/drive/MyDrive/Project_phase/ham10000_...   \n",
              "4  /content/drive/MyDrive/Project_phase/ham10000_...   \n",
              "\n",
              "                                         image_pixel  label  \n",
              "0  [[[237, 159, 171], [238, 158, 173], [241, 161,...      0  \n",
              "1  [[[219, 112, 131], [223, 119, 136], [224, 121,...      0  \n",
              "2  [[[234, 134, 155], [238, 140, 164], [234, 130,...      0  \n",
              "3  [[[214, 121, 154], [216, 124, 159], [218, 124,...      0  \n",
              "4  [[[234, 146, 167], [236, 149, 171], [233, 149,...      0  "
            ],
            "text/html": [
              "\n",
              "  <div id=\"df-8932e7f5-7227-4cab-a4f4-0941e0a4600f\">\n",
              "    <div class=\"colab-df-container\">\n",
              "      <div>\n",
              "<style scoped>\n",
              "    .dataframe tbody tr th:only-of-type {\n",
              "        vertical-align: middle;\n",
              "    }\n",
              "\n",
              "    .dataframe tbody tr th {\n",
              "        vertical-align: top;\n",
              "    }\n",
              "\n",
              "    .dataframe thead th {\n",
              "        text-align: right;\n",
              "    }\n",
              "</style>\n",
              "<table border=\"1\" class=\"dataframe\">\n",
              "  <thead>\n",
              "    <tr style=\"text-align: right;\">\n",
              "      <th></th>\n",
              "      <th>index</th>\n",
              "      <th>lesion_id</th>\n",
              "      <th>image_id</th>\n",
              "      <th>dx</th>\n",
              "      <th>dx_type</th>\n",
              "      <th>age</th>\n",
              "      <th>sex</th>\n",
              "      <th>localization</th>\n",
              "      <th>dataset</th>\n",
              "      <th>cell_type</th>\n",
              "      <th>path</th>\n",
              "      <th>image_pixel</th>\n",
              "      <th>label</th>\n",
              "    </tr>\n",
              "  </thead>\n",
              "  <tbody>\n",
              "    <tr>\n",
              "      <th>0</th>\n",
              "      <td>5007</td>\n",
              "      <td>HAM_0006322</td>\n",
              "      <td>ISIC_0030309</td>\n",
              "      <td>nv</td>\n",
              "      <td>follow_up</td>\n",
              "      <td>55</td>\n",
              "      <td>male</td>\n",
              "      <td>foot</td>\n",
              "      <td>vidir_molemax</td>\n",
              "      <td>Melanocytic nevi (nv)</td>\n",
              "      <td>/content/drive/MyDrive/Project_phase/ham10000_...</td>\n",
              "      <td>[[[237, 159, 171], [238, 158, 173], [241, 161,...</td>\n",
              "      <td>0</td>\n",
              "    </tr>\n",
              "    <tr>\n",
              "      <th>1</th>\n",
              "      <td>4478</td>\n",
              "      <td>HAM_0003084</td>\n",
              "      <td>ISIC_0026191</td>\n",
              "      <td>nv</td>\n",
              "      <td>follow_up</td>\n",
              "      <td>45</td>\n",
              "      <td>female</td>\n",
              "      <td>upper extremity</td>\n",
              "      <td>vidir_molemax</td>\n",
              "      <td>Melanocytic nevi (nv)</td>\n",
              "      <td>/content/drive/MyDrive/Project_phase/ham10000_...</td>\n",
              "      <td>[[[219, 112, 131], [223, 119, 136], [224, 121,...</td>\n",
              "      <td>0</td>\n",
              "    </tr>\n",
              "    <tr>\n",
              "      <th>2</th>\n",
              "      <td>4477</td>\n",
              "      <td>HAM_0002093</td>\n",
              "      <td>ISIC_0027032</td>\n",
              "      <td>nv</td>\n",
              "      <td>follow_up</td>\n",
              "      <td>45</td>\n",
              "      <td>female</td>\n",
              "      <td>back</td>\n",
              "      <td>vidir_molemax</td>\n",
              "      <td>Melanocytic nevi (nv)</td>\n",
              "      <td>/content/drive/MyDrive/Project_phase/ham10000_...</td>\n",
              "      <td>[[[234, 134, 155], [238, 140, 164], [234, 130,...</td>\n",
              "      <td>0</td>\n",
              "    </tr>\n",
              "    <tr>\n",
              "      <th>3</th>\n",
              "      <td>4476</td>\n",
              "      <td>HAM_0003701</td>\n",
              "      <td>ISIC_0027191</td>\n",
              "      <td>nv</td>\n",
              "      <td>follow_up</td>\n",
              "      <td>45</td>\n",
              "      <td>female</td>\n",
              "      <td>lower extremity</td>\n",
              "      <td>vidir_molemax</td>\n",
              "      <td>Melanocytic nevi (nv)</td>\n",
              "      <td>/content/drive/MyDrive/Project_phase/ham10000_...</td>\n",
              "      <td>[[[214, 121, 154], [216, 124, 159], [218, 124,...</td>\n",
              "      <td>0</td>\n",
              "    </tr>\n",
              "    <tr>\n",
              "      <th>4</th>\n",
              "      <td>4475</td>\n",
              "      <td>HAM_0003806</td>\n",
              "      <td>ISIC_0028667</td>\n",
              "      <td>nv</td>\n",
              "      <td>follow_up</td>\n",
              "      <td>45</td>\n",
              "      <td>female</td>\n",
              "      <td>lower extremity</td>\n",
              "      <td>vidir_molemax</td>\n",
              "      <td>Melanocytic nevi (nv)</td>\n",
              "      <td>/content/drive/MyDrive/Project_phase/ham10000_...</td>\n",
              "      <td>[[[234, 146, 167], [236, 149, 171], [233, 149,...</td>\n",
              "      <td>0</td>\n",
              "    </tr>\n",
              "  </tbody>\n",
              "</table>\n",
              "</div>\n",
              "      <button class=\"colab-df-convert\" onclick=\"convertToInteractive('df-8932e7f5-7227-4cab-a4f4-0941e0a4600f')\"\n",
              "              title=\"Convert this dataframe to an interactive table.\"\n",
              "              style=\"display:none;\">\n",
              "        \n",
              "  <svg xmlns=\"http://www.w3.org/2000/svg\" height=\"24px\"viewBox=\"0 0 24 24\"\n",
              "       width=\"24px\">\n",
              "    <path d=\"M0 0h24v24H0V0z\" fill=\"none\"/>\n",
              "    <path d=\"M18.56 5.44l.94 2.06.94-2.06 2.06-.94-2.06-.94-.94-2.06-.94 2.06-2.06.94zm-11 1L8.5 8.5l.94-2.06 2.06-.94-2.06-.94L8.5 2.5l-.94 2.06-2.06.94zm10 10l.94 2.06.94-2.06 2.06-.94-2.06-.94-.94-2.06-.94 2.06-2.06.94z\"/><path d=\"M17.41 7.96l-1.37-1.37c-.4-.4-.92-.59-1.43-.59-.52 0-1.04.2-1.43.59L10.3 9.45l-7.72 7.72c-.78.78-.78 2.05 0 2.83L4 21.41c.39.39.9.59 1.41.59.51 0 1.02-.2 1.41-.59l7.78-7.78 2.81-2.81c.8-.78.8-2.07 0-2.86zM5.41 20L4 18.59l7.72-7.72 1.47 1.35L5.41 20z\"/>\n",
              "  </svg>\n",
              "      </button>\n",
              "      \n",
              "  <style>\n",
              "    .colab-df-container {\n",
              "      display:flex;\n",
              "      flex-wrap:wrap;\n",
              "      gap: 12px;\n",
              "    }\n",
              "\n",
              "    .colab-df-convert {\n",
              "      background-color: #E8F0FE;\n",
              "      border: none;\n",
              "      border-radius: 50%;\n",
              "      cursor: pointer;\n",
              "      display: none;\n",
              "      fill: #1967D2;\n",
              "      height: 32px;\n",
              "      padding: 0 0 0 0;\n",
              "      width: 32px;\n",
              "    }\n",
              "\n",
              "    .colab-df-convert:hover {\n",
              "      background-color: #E2EBFA;\n",
              "      box-shadow: 0px 1px 2px rgba(60, 64, 67, 0.3), 0px 1px 3px 1px rgba(60, 64, 67, 0.15);\n",
              "      fill: #174EA6;\n",
              "    }\n",
              "\n",
              "    [theme=dark] .colab-df-convert {\n",
              "      background-color: #3B4455;\n",
              "      fill: #D2E3FC;\n",
              "    }\n",
              "\n",
              "    [theme=dark] .colab-df-convert:hover {\n",
              "      background-color: #434B5C;\n",
              "      box-shadow: 0px 1px 3px 1px rgba(0, 0, 0, 0.15);\n",
              "      filter: drop-shadow(0px 1px 2px rgba(0, 0, 0, 0.3));\n",
              "      fill: #FFFFFF;\n",
              "    }\n",
              "  </style>\n",
              "\n",
              "      <script>\n",
              "        const buttonEl =\n",
              "          document.querySelector('#df-8932e7f5-7227-4cab-a4f4-0941e0a4600f button.colab-df-convert');\n",
              "        buttonEl.style.display =\n",
              "          google.colab.kernel.accessAllowed ? 'block' : 'none';\n",
              "\n",
              "        async function convertToInteractive(key) {\n",
              "          const element = document.querySelector('#df-8932e7f5-7227-4cab-a4f4-0941e0a4600f');\n",
              "          const dataTable =\n",
              "            await google.colab.kernel.invokeFunction('convertToInteractive',\n",
              "                                                     [key], {});\n",
              "          if (!dataTable) return;\n",
              "\n",
              "          const docLinkHtml = 'Like what you see? Visit the ' +\n",
              "            '<a target=\"_blank\" href=https://colab.research.google.com/notebooks/data_table.ipynb>data table notebook</a>'\n",
              "            + ' to learn more about interactive tables.';\n",
              "          element.innerHTML = '';\n",
              "          dataTable['output_type'] = 'display_data';\n",
              "          await google.colab.output.renderOutput(dataTable, element);\n",
              "          const docLink = document.createElement('div');\n",
              "          docLink.innerHTML = docLinkHtml;\n",
              "          element.appendChild(docLink);\n",
              "        }\n",
              "      </script>\n",
              "    </div>\n",
              "  </div>\n",
              "  "
            ]
          },
          "metadata": {},
          "execution_count": 45
        }
      ]
    },
    {
      "cell_type": "code",
      "source": [
        "final_data['age'].dtype"
      ],
      "metadata": {
        "id": "PSgPOMZsIdxq",
        "colab": {
          "base_uri": "https://localhost:8080/"
        },
        "outputId": "c964e341-2db7-41a1-b23a-e6a132434903"
      },
      "execution_count": null,
      "outputs": [
        {
          "output_type": "execute_result",
          "data": {
            "text/plain": [
              "dtype('int32')"
            ]
          },
          "metadata": {},
          "execution_count": 47
        }
      ]
    },
    {
      "cell_type": "code",
      "source": [
        "plt.figure(figsize=(16,8))\n",
        "\n",
        "sns.boxplot(x=final_data['dx'],y=final_data['age'])"
      ],
      "metadata": {
        "colab": {
          "base_uri": "https://localhost:8080/",
          "height": 514
        },
        "id": "nd9bn_YLc7Au",
        "outputId": "96c57722-6d01-4ce7-9aef-e5b37fa5ea05"
      },
      "execution_count": null,
      "outputs": [
        {
          "output_type": "execute_result",
          "data": {
            "text/plain": [
              "<matplotlib.axes._subplots.AxesSubplot at 0x7f88e56670d0>"
            ]
          },
          "metadata": {},
          "execution_count": 54
        },
        {
          "output_type": "display_data",
          "data": {
            "text/plain": [
              "<Figure size 1152x576 with 1 Axes>"
            ],
            "image/png": "[encoded data removed]"
          },
          "metadata": {
            "needs_background": "light"
          }
        }
      ]
    },
    {
      "cell_type": "code",
      "source": [
        "final_data.head()"
      ],
      "metadata": {
        "colab": {
          "base_uri": "https://localhost:8080/",
          "height": 337
        },
        "id": "Cxzs8P44dXVB",
        "outputId": "a88cd2c7-711e-4c50-9b1a-5e1031eaa062"
      },
      "execution_count": null,
      "outputs": [
        {
          "output_type": "execute_result",
          "data": {
            "text/plain": [
              "   index    lesion_id      image_id  dx    dx_type  age     sex  \\\n",
              "0   5007  HAM_0006322  ISIC_0030309  nv  follow_up   55    male   \n",
              "1   4478  HAM_0003084  ISIC_0026191  nv  follow_up   45  female   \n",
              "2   4477  HAM_0002093  ISIC_0027032  nv  follow_up   45  female   \n",
              "3   4476  HAM_0003701  ISIC_0027191  nv  follow_up   45  female   \n",
              "4   4475  HAM_0003806  ISIC_0028667  nv  follow_up   45  female   \n",
              "\n",
              "      localization        dataset              cell_type  \\\n",
              "0             foot  vidir_molemax  Melanocytic nevi (nv)   \n",
              "1  upper extremity  vidir_molemax  Melanocytic nevi (nv)   \n",
              "2             back  vidir_molemax  Melanocytic nevi (nv)   \n",
              "3  lower extremity  vidir_molemax  Melanocytic nevi (nv)   \n",
              "4  lower extremity  vidir_molemax  Melanocytic nevi (nv)   \n",
              "\n",
              "                                                path  \\\n",
              "0  /content/drive/MyDrive/Project_phase/ham10000_...   \n",
              "1  /content/drive/MyDrive/Project_phase/ham10000_...   \n",
              "2  /content/drive/MyDrive/Project_phase/ham10000_...   \n",
              "3  /content/drive/MyDrive/Project_phase/ham10000_...   \n",
              "4  /content/drive/MyDrive/Project_phase/ham10000_...   \n",
              "\n",
              "                                         image_pixel  label  \n",
              "0  [[[237, 159, 171], [238, 158, 173], [241, 161,...      0  \n",
              "1  [[[219, 112, 131], [223, 119, 136], [224, 121,...      0  \n",
              "2  [[[234, 134, 155], [238, 140, 164], [234, 130,...      0  \n",
              "3  [[[214, 121, 154], [216, 124, 159], [218, 124,...      0  \n",
              "4  [[[234, 146, 167], [236, 149, 171], [233, 149,...      0  "
            ],
            "text/html": [
              "\n",
              "  <div id=\"df-effa60a2-ea71-4a01-a1cd-3f673bd9ff7d\">\n",
              "    <div class=\"colab-df-container\">\n",
              "      <div>\n",
              "<style scoped>\n",
              "    .dataframe tbody tr th:only-of-type {\n",
              "        vertical-align: middle;\n",
              "    }\n",
              "\n",
              "    .dataframe tbody tr th {\n",
              "        vertical-align: top;\n",
              "    }\n",
              "\n",
              "    .dataframe thead th {\n",
              "        text-align: right;\n",
              "    }\n",
              "</style>\n",
              "<table border=\"1\" class=\"dataframe\">\n",
              "  <thead>\n",
              "    <tr style=\"text-align: right;\">\n",
              "      <th></th>\n",
              "      <th>index</th>\n",
              "      <th>lesion_id</th>\n",
              "      <th>image_id</th>\n",
              "      <th>dx</th>\n",
              "      <th>dx_type</th>\n",
              "      <th>age</th>\n",
              "      <th>sex</th>\n",
              "      <th>localization</th>\n",
              "      <th>dataset</th>\n",
              "      <th>cell_type</th>\n",
              "      <th>path</th>\n",
              "      <th>image_pixel</th>\n",
              "      <th>label</th>\n",
              "    </tr>\n",
              "  </thead>\n",
              "  <tbody>\n",
              "    <tr>\n",
              "      <th>0</th>\n",
              "      <td>5007</td>\n",
              "      <td>HAM_0006322</td>\n",
              "      <td>ISIC_0030309</td>\n",
              "      <td>nv</td>\n",
              "      <td>follow_up</td>\n",
              "      <td>55</td>\n",
              "      <td>male</td>\n",
              "      <td>foot</td>\n",
              "      <td>vidir_molemax</td>\n",
              "      <td>Melanocytic nevi (nv)</td>\n",
              "      <td>/content/drive/MyDrive/Project_phase/ham10000_...</td>\n",
              "      <td>[[[237, 159, 171], [238, 158, 173], [241, 161,...</td>\n",
              "      <td>0</td>\n",
              "    </tr>\n",
              "    <tr>\n",
              "      <th>1</th>\n",
              "      <td>4478</td>\n",
              "      <td>HAM_0003084</td>\n",
              "      <td>ISIC_0026191</td>\n",
              "      <td>nv</td>\n",
              "      <td>follow_up</td>\n",
              "      <td>45</td>\n",
              "      <td>female</td>\n",
              "      <td>upper extremity</td>\n",
              "      <td>vidir_molemax</td>\n",
              "      <td>Melanocytic nevi (nv)</td>\n",
              "      <td>/content/drive/MyDrive/Project_phase/ham10000_...</td>\n",
              "      <td>[[[219, 112, 131], [223, 119, 136], [224, 121,...</td>\n",
              "      <td>0</td>\n",
              "    </tr>\n",
              "    <tr>\n",
              "      <th>2</th>\n",
              "      <td>4477</td>\n",
              "      <td>HAM_0002093</td>\n",
              "      <td>ISIC_0027032</td>\n",
              "      <td>nv</td>\n",
              "      <td>follow_up</td>\n",
              "      <td>45</td>\n",
              "      <td>female</td>\n",
              "      <td>back</td>\n",
              "      <td>vidir_molemax</td>\n",
              "      <td>Melanocytic nevi (nv)</td>\n",
              "      <td>/content/drive/MyDrive/Project_phase/ham10000_...</td>\n",
              "      <td>[[[234, 134, 155], [238, 140, 164], [234, 130,...</td>\n",
              "      <td>0</td>\n",
              "    </tr>\n",
              "    <tr>\n",
              "      <th>3</th>\n",
              "      <td>4476</td>\n",
              "      <td>HAM_0003701</td>\n",
              "      <td>ISIC_0027191</td>\n",
              "      <td>nv</td>\n",
              "      <td>follow_up</td>\n",
              "      <td>45</td>\n",
              "      <td>female</td>\n",
              "      <td>lower extremity</td>\n",
              "      <td>vidir_molemax</td>\n",
              "      <td>Melanocytic nevi (nv)</td>\n",
              "      <td>/content/drive/MyDrive/Project_phase/ham10000_...</td>\n",
              "      <td>[[[214, 121, 154], [216, 124, 159], [218, 124,...</td>\n",
              "      <td>0</td>\n",
              "    </tr>\n",
              "    <tr>\n",
              "      <th>4</th>\n",
              "      <td>4475</td>\n",
              "      <td>HAM_0003806</td>\n",
              "      <td>ISIC_0028667</td>\n",
              "      <td>nv</td>\n",
              "      <td>follow_up</td>\n",
              "      <td>45</td>\n",
              "      <td>female</td>\n",
              "      <td>lower extremity</td>\n",
              "      <td>vidir_molemax</td>\n",
              "      <td>Melanocytic nevi (nv)</td>\n",
              "      <td>/content/drive/MyDrive/Project_phase/ham10000_...</td>\n",
              "      <td>[[[234, 146, 167], [236, 149, 171], [233, 149,...</td>\n",
              "      <td>0</td>\n",
              "    </tr>\n",
              "  </tbody>\n",
              "</table>\n",
              "</div>\n",
              "      <button class=\"colab-df-convert\" onclick=\"convertToInteractive('df-effa60a2-ea71-4a01-a1cd-3f673bd9ff7d')\"\n",
              "              title=\"Convert this dataframe to an interactive table.\"\n",
              "              style=\"display:none;\">\n",
              "        \n",
              "  <svg xmlns=\"http://www.w3.org/2000/svg\" height=\"24px\"viewBox=\"0 0 24 24\"\n",
              "       width=\"24px\">\n",
              "    <path d=\"M0 0h24v24H0V0z\" fill=\"none\"/>\n",
              "    <path d=\"M18.56 5.44l.94 2.06.94-2.06 2.06-.94-2.06-.94-.94-2.06-.94 2.06-2.06.94zm-11 1L8.5 8.5l.94-2.06 2.06-.94-2.06-.94L8.5 2.5l-.94 2.06-2.06.94zm10 10l.94 2.06.94-2.06 2.06-.94-2.06-.94-.94-2.06-.94 2.06-2.06.94z\"/><path d=\"M17.41 7.96l-1.37-1.37c-.4-.4-.92-.59-1.43-.59-.52 0-1.04.2-1.43.59L10.3 9.45l-7.72 7.72c-.78.78-.78 2.05 0 2.83L4 21.41c.39.39.9.59 1.41.59.51 0 1.02-.2 1.41-.59l7.78-7.78 2.81-2.81c.8-.78.8-2.07 0-2.86zM5.41 20L4 18.59l7.72-7.72 1.47 1.35L5.41 20z\"/>\n",
              "  </svg>\n",
              "      </button>\n",
              "      \n",
              "  <style>\n",
              "    .colab-df-container {\n",
              "      display:flex;\n",
              "      flex-wrap:wrap;\n",
              "      gap: 12px;\n",
              "    }\n",
              "\n",
              "    .colab-df-convert {\n",
              "      background-color: #E8F0FE;\n",
              "      border: none;\n",
              "      border-radius: 50%;\n",
              "      cursor: pointer;\n",
              "      display: none;\n",
              "      fill: #1967D2;\n",
              "      height: 32px;\n",
              "      padding: 0 0 0 0;\n",
              "      width: 32px;\n",
              "    }\n",
              "\n",
              "    .colab-df-convert:hover {\n",
              "      background-color: #E2EBFA;\n",
              "      box-shadow: 0px 1px 2px rgba(60, 64, 67, 0.3), 0px 1px 3px 1px rgba(60, 64, 67, 0.15);\n",
              "      fill: #174EA6;\n",
              "    }\n",
              "\n",
              "    [theme=dark] .colab-df-convert {\n",
              "      background-color: #3B4455;\n",
              "      fill: #D2E3FC;\n",
              "    }\n",
              "\n",
              "    [theme=dark] .colab-df-convert:hover {\n",
              "      background-color: #434B5C;\n",
              "      box-shadow: 0px 1px 3px 1px rgba(0, 0, 0, 0.15);\n",
              "      filter: drop-shadow(0px 1px 2px rgba(0, 0, 0, 0.3));\n",
              "      fill: #FFFFFF;\n",
              "    }\n",
              "  </style>\n",
              "\n",
              "      <script>\n",
              "        const buttonEl =\n",
              "          document.querySelector('#df-effa60a2-ea71-4a01-a1cd-3f673bd9ff7d button.colab-df-convert');\n",
              "        buttonEl.style.display =\n",
              "          google.colab.kernel.accessAllowed ? 'block' : 'none';\n",
              "\n",
              "        async function convertToInteractive(key) {\n",
              "          const element = document.querySelector('#df-effa60a2-ea71-4a01-a1cd-3f673bd9ff7d');\n",
              "          const dataTable =\n",
              "            await google.colab.kernel.invokeFunction('convertToInteractive',\n",
              "                                                     [key], {});\n",
              "          if (!dataTable) return;\n",
              "\n",
              "          const docLinkHtml = 'Like what you see? Visit the ' +\n",
              "            '<a target=\"_blank\" href=https://colab.research.google.com/notebooks/data_table.ipynb>data table notebook</a>'\n",
              "            + ' to learn more about interactive tables.';\n",
              "          element.innerHTML = '';\n",
              "          dataTable['output_type'] = 'display_data';\n",
              "          await google.colab.output.renderOutput(dataTable, element);\n",
              "          const docLink = document.createElement('div');\n",
              "          docLink.innerHTML = docLinkHtml;\n",
              "          element.appendChild(docLink);\n",
              "        }\n",
              "      </script>\n",
              "    </div>\n",
              "  </div>\n",
              "  "
            ]
          },
          "metadata": {},
          "execution_count": 55
        }
      ]
    },
    {
      "cell_type": "code",
      "source": [],
      "metadata": {
        "id": "dB3vVaIMe8vd"
      },
      "execution_count": null,
      "outputs": []
    },
    {
      "cell_type": "code",
      "source": [],
      "metadata": {
        "id": "S48DFETSfioh"
      },
      "execution_count": null,
      "outputs": []
    }
  ]
}